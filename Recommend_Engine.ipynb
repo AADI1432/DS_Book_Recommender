{
 "cells": [
  {
   "cell_type": "markdown",
   "metadata": {},
   "source": [
    "# Recommendation system technique:\n",
    "\n",
    "\n",
    "step 1. reader Profile\n",
    "\n",
    "- ask user to rate a random list of books\n",
    "- which common tags can pique the interest of the users?\n",
    "- is the user adventurous? to increase randomness in result.\n",
    "- apply funk SVD for users similar to each other.\n",
    "\n",
    "!!\"Neighborhood-Based Collaborative Filtering, which is based on the idea that we can either correlate items that are similar to provide recommendations or we can correlate users to one another to provide recommendations.\"\n",
    "\n",
    "user-based compares similar users  \n",
    "!!  \"User-based collaborative filtering: In this type of recommendation, users related to the user you would like to make recommendations for are used to create a recommendation.\"\n",
    "\n",
    "user-based compares similar items (good for tags?)  \n",
    "!!\"Item-based collaborative filtering: In this type of recommendation, first you need to find the items that are most related to each other item (based on similar ratings). Then you can use the ratings of an individual on those similar items to understand if a user will like the new item.\"\n",
    "\n",
    "\n",
    "apply collaborative filtering\n",
    "- which books did he like (4/5) star\n",
    "- which books did both hate?\n",
    "\n",
    "notes:\n",
    "1- problems: who wants to evaluate all Harry Potter sequels?\n",
    "2- popular often rated books are over represented.\n",
    "3- a recommendation system is supposed to help you with books that may not be on your radar. chances are that if you are not a Harry Potter fan reader by now, you're never going to be.\n",
    "\n",
    "apply content based filtering  \n",
    "\n",
    "in the code:\n",
    "- 'user' refers to the user of this code.  \n",
    "- 'reader' refers to the data from the readers data\n"
   ]
  },
  {
   "cell_type": "code",
   "execution_count": 159,
   "metadata": {},
   "outputs": [],
   "source": [
    "import matplotlib.pyplot as plt\n",
    "\n",
    "import time\n",
    "import numpy as np\n",
    "import pandas as pd\n",
    "import random\n",
    "import operator\n",
    "from operator import itemgetter\n",
    "from statistics import mean \n",
    "\n",
    "from sklearn.metrics.pairwise import cosine_similarity\n",
    "from sklearn.cluster import KMeans\n",
    "\n",
    "df_ratings = pd.read_csv('df_ratings.csv' )\n",
    "df_books = pd.read_csv('df_books.csv' )\n",
    "df_tags = pd.read_csv('df_tags.csv' )"
   ]
  },
  {
   "cell_type": "markdown",
   "metadata": {},
   "source": [
    "## 1. Reader Profile  \n",
    "### Finding out good books to recommend:"
   ]
  },
  {
   "cell_type": "markdown",
   "metadata": {},
   "source": [
    "### Define:\n",
    "- Most books have been rated by 100 to 1000 readers.\n",
    "- book_id number is relevant as it indicates the length of time it has been in the database.\n",
    "\n",
    "In order to provide a good insight into a readers preferences, the following techniques will be applied:\n",
    "\n",
    "1. Which are the most often rated books? Note that there will be a bias towards early entries in the database (indicated by low book_id numbers).  \n",
    "\n",
    "2. Which books have the highest ratings? These will be weighted across all users, to ensure that unfrequently but highly rated books do not have over-representation.  \n",
    "\n",
    "3. The books need to be as distinct as possible between themselves and the readers.\n",
    "\n",
    "In order to do this, a dataframe will be made from the 10,000 books:\n",
    "- Filter1: the 100 entries with the highest mean ratings (indicating these are good recommendations).\n",
    "- Filter2: the 100 entries with the highest number of ratings (indicating these are representative of all readers).\n",
    "- Filter3: 100 random entries from 2 x 100 of the largest book_id values (indicating these are the most recent book additions).\n",
    "\n",
    "These 300 entries will then be analysed to determine the top 100 that are most distinct from each other."
   ]
  },
  {
   "cell_type": "markdown",
   "metadata": {},
   "source": [
    "### Code:"
   ]
  },
  {
   "cell_type": "code",
   "execution_count": 5,
   "metadata": {},
   "outputs": [],
   "source": [
    "def most_rated (df_ratings, top=100):\n",
    "    '''\n",
    "    INPUT\n",
    "    df_ratings: ratings dataframe\n",
    "    top: number of books to consider per filter. It is recommended to keep this below 1000 due to memory limitations.\n",
    "    \n",
    "    OUTPUT\n",
    "    returns top_filters list awith a list of book_id's that may be of interest for recommendation.\n",
    "    '''\n",
    "    #100 entries with the highest mean ratings\n",
    "    top_mean=list(df_ratings.groupby(['book_id']).mean().sort_values('rating',ascending=False)[:top].index)\n",
    "    \n",
    "    return top_mean"
   ]
  },
  {
   "cell_type": "code",
   "execution_count": 6,
   "metadata": {},
   "outputs": [],
   "source": [
    "def best_rated (df_ratings, top=100):\n",
    "    '''\n",
    "    INPUT\n",
    "    df_ratings: ratings dataframe\n",
    "    top: number of books to consider per filter. It is recommended to keep this below 1000 due to memory limitations.\n",
    "    \n",
    "    OUTPUT\n",
    "    returns top_filters list awith a list of book_id's that may be of interest for recommendation.\n",
    "    '''\n",
    "    #100 entries with the highest number of ratings:\n",
    "    top_number=list(df_ratings.groupby('book_id')['rating'].count().sort_values(ascending=False)[:top].index)\n",
    "    \n",
    "    return top_number"
   ]
  },
  {
   "cell_type": "code",
   "execution_count": 7,
   "metadata": {},
   "outputs": [],
   "source": [
    "def recent_rated (df_ratings, top=100):\n",
    "    '''\n",
    "    INPUT\n",
    "    df_ratings: ratings dataframe\n",
    "    top: number of books to consider per filter. It is recommended to keep this below 1000 due to memory limitations.\n",
    "    \n",
    "    OUTPUT\n",
    "    returns top_filters list awith a list of book_id's that may be of interest for recommendation.\n",
    "    '''\n",
    "    #100 entries with the largest book_id values:\n",
    "    top_id=sorted(df_ratings['book_id'].unique(),reverse=True)[:(2 * top)] #select 2 x 100 entries entries\n",
    "    \n",
    "    #consistenly obtain the same random results for testing purposes.\n",
    "    \n",
    "    random.seed(3)\n",
    "    top_id=random.sample(top_id,100) #randomly select a sample of 100 entries\n",
    "    \n",
    "    return top_id"
   ]
  },
  {
   "cell_type": "markdown",
   "metadata": {},
   "source": [
    "### Test:"
   ]
  },
  {
   "cell_type": "code",
   "execution_count": 8,
   "metadata": {},
   "outputs": [],
   "source": [
    "#book_id for interest\n",
    "\n",
    "most_rated_list = most_rated (df_ratings, top=100)\n",
    "best_rated_list = best_rated (df_ratings, top=100)\n",
    "recent_rated_list = recent_rated (df_ratings, top=100)"
   ]
  },
  {
   "cell_type": "code",
   "execution_count": 9,
   "metadata": {},
   "outputs": [
    {
     "name": "stdout",
     "output_type": "stream",
     "text": [
      "[3628, 7947, 9566, 6920, 8978, 6361, 6590, 4483, 3275, 1788, 5207, 8946, 1308, 9141, 862, 3753, 5580, 8663, 8109, 8569, 4778, 7883, 780, 422, 7254, 9806, 6642, 1010, 9569, 5919, 4868, 2244, 4107, 2767, 2101, 7264, 9076, 7945, 3395, 3230, 6902, 9842, 4708, 8854, 8548, 2149, 2167, 3491, 4410, 8451, 9004, 5754, 6089, 6527, 2093, 3054, 1264, 3736, 3215, 5344, 3095, 3660, 9360, 9470, 3241, 2956, 562, 1618, 2353, 6720, 8976, 9923, 9712, 3082, 7689, 3885, 2527, 2209, 3030, 25, 6659, 4653, 3282, 9319, 1380, 964, 7593, 5376, 9139, 8982, 4522, 4344, 7373, 8926, 6228, 8233, 9943, 8110, 2940, 8187]\n"
     ]
    }
   ],
   "source": [
    "print(most_rated_list)"
   ]
  },
  {
   "cell_type": "code",
   "execution_count": 10,
   "metadata": {},
   "outputs": [
    {
     "name": "stdout",
     "output_type": "stream",
     "text": [
      "[1, 2, 4, 3, 5, 17, 20, 18, 23, 7, 24, 25, 21, 27, 13, 8, 16, 14, 28, 9, 10, 37, 26, 31, 11, 19, 30, 15, 32, 12, 22, 29, 33, 6, 36, 39, 42, 47, 46, 48, 43, 45, 38, 54, 49, 52, 55, 63, 56, 59, 58, 61, 60, 35, 70, 57, 50, 69, 62, 65, 117, 40, 71, 34, 66, 138, 67, 93, 41, 98, 119, 131, 116, 64, 76, 53, 85, 113, 125, 72, 110, 80, 104, 44, 140, 97, 84, 122, 83, 133, 51, 155, 87, 154, 95, 102, 100, 161, 73, 129]\n"
     ]
    }
   ],
   "source": [
    "print(best_rated_list)"
   ]
  },
  {
   "cell_type": "code",
   "execution_count": 11,
   "metadata": {},
   "outputs": [
    {
     "name": "stdout",
     "output_type": "stream",
     "text": [
      "[9940, 9849, 9861, 9967, 9906, 9846, 9879, 9840, 9852, 9984, 9845, 9997, 9880, 9934, 9859, 9941, 9951, 9813, 9862, 9860, 9807, 9899, 9837, 9962, 9816, 9838, 9824, 9867, 9901, 9812, 9810, 9960, 9802, 9990, 9923, 9993, 9932, 9821, 9848, 9829, 9891, 9822, 9853, 9887, 9966, 9907, 9976, 9991, 9811, 9874, 9945, 9814, 9889, 9835, 9893, 9871, 9902, 9911, 9864, 9896, 9825, 9914, 9836, 9929, 9959, 9917, 9974, 9946, 9823, 9928, 9969, 9831, 9877, 9841, 9919, 9939, 9989, 9956, 9898, 9992, 9948, 9886, 9981, 9998, 9963, 9868, 9857, 9947, 9843, 9985, 9995, 9854, 9922, 9903, 9850, 9952, 9909, 9925, 9958, 9930]\n"
     ]
    }
   ],
   "source": [
    "print(recent_rated_list)"
   ]
  },
  {
   "cell_type": "markdown",
   "metadata": {},
   "source": [
    "## 2. Reader Profile  \n",
    "### Finding out good and *distinct* books to recommend:"
   ]
  },
  {
   "cell_type": "markdown",
   "metadata": {},
   "source": [
    "*How distinct are the book_id ? These are too many for someone to build a profile. Recommend 100."
   ]
  },
  {
   "cell_type": "markdown",
   "metadata": {},
   "source": [
    "### Define:\n",
    "- create dummy variables for all books\n",
    "\n",
    "apply SKmeans with 100 clusters. choose those that are furthest from eahch other"
   ]
  },
  {
   "cell_type": "code",
   "execution_count": 12,
   "metadata": {},
   "outputs": [],
   "source": [
    "def clusters(df_ratings,book_list, clusters=100):\n",
    "    '''\n",
    "    INPUT: \n",
    "    - input the df_ratings\n",
    "    - the top number of recommnedations of interest\n",
    "    - book_list - a list with the books of interest to find clusters\n",
    "    \n",
    "    \n",
    "    OUTPUT:\n",
    "    - return list with book_ids that are good recommendations.\n",
    "    \n",
    "    '''\n",
    "    #create a dataframe containing the books from the 3 filters of interest\n",
    "    df_filters=df_ratings[df_ratings['book_id'].isin(book_list)]\n",
    "    \n",
    "    #unstack the dataframe\n",
    "    df_filters = df_filters.groupby(['user_id', 'book_id'])['rating'].max().unstack()\n",
    "    \n",
    "    #fill the N/A with \"0\", and all non-N/A values with \"1\".\n",
    "    #https://stackoverflow.com/questions/37543647/\n",
    "    #how-to-replace-all-non-nan-entries-of-a-dataframe-with-1-and-all-nan-with-0\n",
    "    df_filters = df_filters.notnull().astype('int')\n",
    "    \n",
    "    #Transpose so that books are in the rows index; and fill all NA values with 0.\n",
    "    df_filters=df_filters.T\n",
    "        \n",
    "    #create kmeans object\n",
    "    kmeans_filters = KMeans(clusters).fit(df_filters)\n",
    "    \n",
    "    #create a dictionary containing all the books from book_list with their corresponding clusters\n",
    "    cluster_dic={}\n",
    "    \n",
    "#    for book in range (len(book_list)):\n",
    "    for book in book_list:\n",
    "        \n",
    "        book_test=np.array(df_filters.loc[book])\n",
    "        book_test=book_test.reshape(1, -1)\n",
    "        cluster=kmeans_filters.predict(book_test)\n",
    "\n",
    "        cluster_dic.update({book:int(cluster)})\n",
    "        \n",
    "    return cluster_dic"
   ]
  },
  {
   "cell_type": "code",
   "execution_count": 13,
   "metadata": {},
   "outputs": [],
   "source": [
    "def unique_keys(cluster_dic):\n",
    "    \n",
    "    #https://stackoverflow.com/questions/8749158/removing-duplicates-from-dictionary\n",
    "    books_result={}\n",
    "\n",
    "    for key,value in cluster_dic.items():\n",
    "        if value not in books_result.values():\n",
    "            books_result[key] = value\n",
    "    \n",
    "    #return a list of book_ids all belonging to different clusters.\n",
    "    return list(books_result.keys())"
   ]
  },
  {
   "cell_type": "code",
   "execution_count": 14,
   "metadata": {},
   "outputs": [],
   "source": [
    "def get_book_titles(booklist):\n",
    "    '''\n",
    "    INPUT: book list\n",
    "    OUTPUT: dictionary with titles\n",
    "    '''\n",
    "    \n",
    "    df_mask=df_books[df_books['book_id'].isin(booklist)][['book_id','title','authors']]\n",
    "    titles_dict = dict(zip(df_mask['book_id'], df_mask['title'].str.cat(df_mask[['authors']], sep=' - by: ')))\n",
    "    \n",
    "    return titles_dict"
   ]
  },
  {
   "cell_type": "code",
   "execution_count": 15,
   "metadata": {},
   "outputs": [],
   "source": [
    "most_rated_clusters=clusters(df_ratings,most_rated_list, clusters=20)\n",
    "most_rated_keys=unique_keys(most_rated_clusters)\n",
    "\n",
    "best_rated_clusters=clusters(df_ratings,best_rated_list, clusters=20)\n",
    "best_rated_keys=unique_keys(best_rated_clusters)\n",
    "\n",
    "recent_rated_clusters=clusters(df_ratings,recent_rated_list, clusters=20)\n",
    "recent_rated_keys=unique_keys(recent_rated_clusters)\n",
    "\n",
    "#Find unique values from the 3 filters:\n",
    "top_filters=sorted(list(set(most_rated_keys)|set(best_rated_keys)|set(recent_rated_keys)))    "
   ]
  },
  {
   "cell_type": "code",
   "execution_count": 16,
   "metadata": {},
   "outputs": [],
   "source": [
    "query_dict=get_book_titles(top_filters)"
   ]
  },
  {
   "cell_type": "code",
   "execution_count": 17,
   "metadata": {},
   "outputs": [
    {
     "data": {
      "text/plain": [
       "{1: 'The Hunger Games (The Hunger Games, #1) - by: Suzanne Collins',\n",
       " 2: \"Harry Potter and the Sorcerer's Stone (Harry Potter, #1) - by: J.K. Rowling\",\n",
       " 3: 'Twilight (Twilight, #1) - by: Stephenie Meyer',\n",
       " 4: 'To Kill a Mockingbird - by: Harper Lee',\n",
       " 7: 'The Hobbit - by: J.R.R. Tolkien',\n",
       " 9: 'Angels & Demons  (Robert Langdon, #1) - by: Dan Brown',\n",
       " 10: 'Pride and Prejudice - by: Jane Austen',\n",
       " 11: 'The Kite Runner - by: Khaled Hosseini',\n",
       " 12: 'Divergent (Divergent, #1) - by: Veronica Roth',\n",
       " 13: '1984 - by: George Orwell',\n",
       " 16: 'The Girl with the Dragon Tattoo (Millennium, #1) - by: Stieg Larsson',\n",
       " 18: 'Harry Potter and the Prisoner of Azkaban (Harry Potter, #3) - by: J.K. Rowling',\n",
       " 25: 'Harry Potter and the Deathly Hallows (Harry Potter, #7) - by: J.K. Rowling',\n",
       " 30: 'Gone Girl - by: Gillian Flynn',\n",
       " 31: 'The Help - by: Kathryn Stockett',\n",
       " 36: 'The Giver (The Giver, #1) - by: Lois Lowry',\n",
       " 37: 'The Lion, the Witch, and the Wardrobe (Chronicles of Narnia, #1) - by: C.S. Lewis',\n",
       " 39: 'A Game of Thrones (A Song of Ice and Fire, #1) - by: George R.R. Martin',\n",
       " 48: 'Fahrenheit 451 - by: Ray Bradbury',\n",
       " 59: \"Charlotte's Web - by: E.B. White\",\n",
       " 117: \"A Wrinkle in Time (A Wrinkle in Time Quintet, #1) - by: Madeleine L'Engle\",\n",
       " 422: 'Harry Potter Boxset (Harry Potter, #1-7) - by: J.K. Rowling',\n",
       " 562: 'The Way of Kings (The Stormlight Archive, #1) - by: Brandon Sanderson',\n",
       " 780: 'Calvin and Hobbes - by: Bill Watterson',\n",
       " 862: 'Words of Radiance (The Stormlight Archive, #2) - by: Brandon Sanderson',\n",
       " 964: 'J.R.R. Tolkien 4-Book Boxed Set: The Hobbit and The Lord of the Rings - by: J.R.R. Tolkien',\n",
       " 1010: 'The Essential Calvin and Hobbes: A Calvin and Hobbes Treasury - by: Bill Watterson',\n",
       " 1308: 'A Court of Mist and Fury (A Court of Thorns and Roses, #2) - by: Sarah J. Maas',\n",
       " 1380: 'The Complete Maus (Maus, #1-2) - by: Art Spiegelman',\n",
       " 1618: 'A Voice in the Wind (Mark of the Lion, #1) - by: Francine Rivers',\n",
       " 1788: 'The Calvin and Hobbes Tenth Anniversary Book - by: Bill Watterson',\n",
       " 2093: 'The Stand: Soul Survivors - by: Roberto Aguirre-Sacasa',\n",
       " 2167: 'Empire of Storms (Throne of Glass, #5) - by: Sarah J. Maas',\n",
       " 2244: 'Saga, Vol. 2 (Saga, #2) - by: Brian K. Vaughan',\n",
       " 3275: 'Harry Potter Boxed Set, Books 1-5 (Harry Potter, #1-5) - by: J.K. Rowling',\n",
       " 3395: 'The Kindly Ones (The Sandman #9) - by: Neil Gaiman',\n",
       " 3628: 'The Complete Calvin and Hobbes - by: Bill Watterson',\n",
       " 7264: 'Master of the Senate (The Years of Lyndon Johnson, #3) - by: Robert A. Caro',\n",
       " 9360: 'The Green Mile, Part 6: Coffey on the Mile - by: Stephen King',\n",
       " 9566: 'Attack of the Deranged Mutant Killer Monster Snow Goons - by: Bill Watterson',\n",
       " 9807: \"Corrupt (Devil's Night, #1) - by: Penelope Douglas\",\n",
       " 9821: 'The Art of Amy Brown - by: Amy Brown',\n",
       " 9823: 'The Turner House - by: Angela Flournoy',\n",
       " 9846: 'The Tiger Who Came to Tea - by: Judith Kerr',\n",
       " 9854: 'The Last Days of Dogtown - by: Anita Diamant',\n",
       " 9859: 'Beacon 23: The Complete Novel (Beacon 23, #1-5) - by: Hugh Howey',\n",
       " 9871: 'Black Cherry Blues (Dave Robicheaux, #3) - by: James Lee Burke',\n",
       " 9874: 'Dancing Wu Li Masters: An Overview of the New Physics (Perennial Classics) - by: Gary Zukav',\n",
       " 9877: 'Trumps of Doom (The Chronicles of Amber, #6) - by: Roger Zelazny',\n",
       " 9879: 'Locked On (Jack Ryan Universe, #14) - by: Tom Clancy',\n",
       " 9896: 'Turn of Mind - by: Alice LaPlante',\n",
       " 9922: 'Sea of Silver Light (Otherland, #4) - by: Tad Williams',\n",
       " 9923: 'The Green Mile, Part 5: Night Journey - by: Stephen King',\n",
       " 9940: 'Demon Thief (The Demonata, #2) - by: Darren Shan',\n",
       " 9960: 'The Prize Winner of Defiance, Ohio: How My Mother Raised 10 Kids on 25 Words or Less - by: Terry Ryan',\n",
       " 9963: 'Krondor: The Betrayal (The Riftwar Legacy, #1) - by: Raymond E. Feist',\n",
       " 9966: 'The Ground Beneath Her Feet - by: Salman Rushdie',\n",
       " 9981: 'The Twelfth Card (Lincoln Rhyme, #6) - by: Jeffery Deaver',\n",
       " 9991: 'The Famished Road - by: Ben Okri',\n",
       " 9995: 'Billy Budd, Sailor - by: Herman Melville'}"
      ]
     },
     "execution_count": 17,
     "metadata": {},
     "output_type": "execute_result"
    }
   ],
   "source": [
    "query_dict"
   ]
  },
  {
   "cell_type": "markdown",
   "metadata": {},
   "source": [
    "#### This list provides a good balance of books:\n",
    "- popularity\n",
    "- high rating\n",
    "- novelty "
   ]
  },
  {
   "cell_type": "markdown",
   "metadata": {},
   "source": [
    "## 3. Reader Profile  \n",
    "### Ask the user to rate the books:"
   ]
  },
  {
   "cell_type": "code",
   "execution_count": 18,
   "metadata": {},
   "outputs": [],
   "source": [
    "def query_book_ratings(query_dict):\n",
    "    \n",
    "    '''\n",
    "    INPUT:\n",
    "    dictionary with the most representative books.\n",
    "    \n",
    "    OUTPUT:\n",
    "    returns a dictionary with key: tag_id; and value: user book rating\n",
    "    '''\n",
    "    \n",
    "    user_ratings={}\n",
    "    \n",
    "    counter=1\n",
    "    \n",
    "    print(\"Please evaluate these 60 books. Instructions: \\n \\\n",
    "    - Please rate from 1 to 5. \\n \\\n",
    "    - Enter 0 if you haven't read the book. \\n \\\n",
    "    - Enter 99 if you want to stop rating.\")\n",
    "\n",
    "    for book in list(query_dict.keys()):\n",
    "    \n",
    "        while True:\n",
    "            \n",
    "            try:\n",
    "                print(\"* Book Rating\",counter, \"/ 60\")\n",
    "                print(query_dict.get(book))\n",
    "                rating=int(input(\"Your rating: \"))\n",
    "            \n",
    "            except ValueError:\n",
    "                print(\"Sorry, I didn't understand that.\")\n",
    "                continue\n",
    "            \n",
    "            if rating==99:\n",
    "                break\n",
    "                \n",
    "            if rating <1 or rating>5:\n",
    "                print(\"Please rate from 1 to 5.\")\n",
    "                continue\n",
    "                \n",
    "            else:\n",
    "                user_ratings.update({book:rating})\n",
    "                break\n",
    "        counter+=1\n",
    "        \n",
    "        if rating==99:\n",
    "            break\n",
    "        \n",
    "    return user_ratings"
   ]
  },
  {
   "cell_type": "code",
   "execution_count": 19,
   "metadata": {},
   "outputs": [
    {
     "name": "stdout",
     "output_type": "stream",
     "text": [
      "Please evaluate these 60 books. Instructions: \n",
      "     - Please rate from 1 to 5. \n",
      "     - Enter 0 if you haven't read the book. \n",
      "     - Enter 99 if you want to stop rating.\n",
      "* Book Rating 1 / 60\n",
      "The Hunger Games (The Hunger Games, #1) - by: Suzanne Collins\n",
      "Your rating: 4\n",
      "* Book Rating 2 / 60\n",
      "Harry Potter and the Sorcerer's Stone (Harry Potter, #1) - by: J.K. Rowling\n",
      "Your rating: 4\n",
      "* Book Rating 3 / 60\n",
      "Twilight (Twilight, #1) - by: Stephenie Meyer\n",
      "Your rating: 4\n",
      "* Book Rating 4 / 60\n",
      "To Kill a Mockingbird - by: Harper Lee\n",
      "Your rating: 4\n",
      "* Book Rating 5 / 60\n",
      "The Hobbit - by: J.R.R. Tolkien\n",
      "Your rating: 4\n",
      "* Book Rating 6 / 60\n",
      "Angels & Demons  (Robert Langdon, #1) - by: Dan Brown\n",
      "Your rating: 4\n",
      "* Book Rating 7 / 60\n",
      "Pride and Prejudice - by: Jane Austen\n",
      "Your rating: 99\n"
     ]
    }
   ],
   "source": [
    "user_ratings=query_book_ratings(query_dict)"
   ]
  },
  {
   "cell_type": "markdown",
   "metadata": {},
   "source": [
    "## 3. Reader Profile  \n",
    "### Ask the user which genres he likes:"
   ]
  },
  {
   "cell_type": "code",
   "execution_count": 20,
   "metadata": {},
   "outputs": [
    {
     "name": "stdout",
     "output_type": "stream",
     "text": [
      "Please enter your genres of interest: \n",
      "     1: action , 2: adult , 3: adventure , 4: all-time-favorites , 5: american , 6: biography , 7: bookclub ,    8: british , 9: children , 10: classics , 11: comedy , 12: coming-of-age , 13: contemporary , 14: crime ,    15: drama , 16: english , 17: family , 18: fantasy , 19: friendship , 20: historical , 21: history ,    22: horror , 23: kids , 24: literature , 25: love , 26: magic , 27: mystery , 28: non-fiction ,    29: paranormal , 30: philosophy , 31: relationships , 32: romance , 33: school , 34: sci-fi , 35: suspense ,    36: teen , 37: war , 38: women , 39: SURPRISE-ME\n",
      "Type 99 when finished.\n",
      "Please type genre and ENTER: 1\n",
      "99 ENTER when finished.\n",
      "\n",
      "Please type genre and ENTER: 2\n",
      "99 ENTER when finished.\n",
      "\n",
      "Please type genre and ENTER: 3\n",
      "99 ENTER when finished.\n",
      "\n",
      "Please type genre and ENTER: 499\n",
      "Please limit to the choices listed.\n",
      "Please type genre and ENTER: 99\n",
      "Your genres selection [1, 2, 3]\n"
     ]
    }
   ],
   "source": [
    "genres={1:'action', 2:'adult', 3:'adventure', 4:'all-time-favorites', 5:'american', 6:'biography', \\\n",
    "        7:'bookclub', 8:'british', 9:'children', 10:'classics', 11:'comedy', 12:'coming-of-age', \\\n",
    "        13:'contemporary', 14:'crime', 15:'drama', 16:'english', 17:'family', 18:'fantasy', 19:'friendship' , \\\n",
    "        20:'historical', 21:'history', 22:'horror', 23:'kids', 24:'literature', 25:'love', 26:'magic',\\\n",
    "        27:'mystery', 28:'non-fiction', 29:'paranormal', 30:'philosophy', 31:'relationships', 32:'romance' , \\\n",
    "        33:'school', 34:'sci-fi', 35:'suspense', 36:'teen', 37:'war', 38:'women', 39:'SURPRISE-ME!' }\n",
    "\n",
    "def query_genre_likes(genres):\n",
    "    \n",
    "    user_genres=[]\n",
    "    \n",
    "    counter=1\n",
    "    \n",
    "    print (\"Please enter your genres of interest: \\n \\\n",
    "    1: action , 2: adult , 3: adventure , 4: all-time-favorites , 5: american , 6: biography , 7: bookclub ,\\\n",
    "    8: british , 9: children , 10: classics , 11: comedy , 12: coming-of-age , 13: contemporary , 14: crime ,\\\n",
    "    15: drama , 16: english , 17: family , 18: fantasy , 19: friendship , 20: historical , 21: history ,\\\n",
    "    22: horror , 23: kids , 24: literature , 25: love , 26: magic , 27: mystery , 28: non-fiction ,\\\n",
    "    29: paranormal , 30: philosophy , 31: relationships , 32: romance , 33: school , 34: sci-fi , 35: suspense ,\\\n",
    "    36: teen , 37: war , 38: women , 39: SURPRISE-ME\")\n",
    "\n",
    "    print (\"Type 99 when finished.\")\n",
    "    \n",
    "    while True:\n",
    "        \n",
    "        try:\n",
    "            genre=int(input(\"Please type genre and ENTER: \"))\n",
    "            \n",
    "        except ValueError:\n",
    "            print (\"Sorry, I didn't understand that.\")\n",
    "            continue\n",
    "        \n",
    "        if genre==99:\n",
    "            break\n",
    "        \n",
    "        if counter>10:\n",
    "            break\n",
    "        \n",
    "        if genre in user_genres:\n",
    "            print (\"This genre was already included.\")\n",
    "        \n",
    "        if genre<1 or genre>39:\n",
    "            print (\"Please limit to the choices listed.\")\n",
    "            continue\n",
    "        else:\n",
    "            user_genres.append(genre)\n",
    "        print(\"99 ENTER when finished.\\n\")\n",
    "        \n",
    "    counter+=1\n",
    "    \n",
    "    return sorted(list(set(user_genres)))\n",
    "\n",
    "user_genres=query_genre_likes(genres)\n",
    "        \n",
    "print (\"Your genres selection\",user_genres)        "
   ]
  },
  {
   "cell_type": "markdown",
   "metadata": {},
   "source": [
    "## 2. User Profile\n",
    "\n",
    "### Find out which readers are like the user..."
   ]
  },
  {
   "cell_type": "markdown",
   "metadata": {},
   "source": [
    "### Define:\n",
    "\n",
    "split into multiples of 16\n",
    "1 - > (53424 / 16) * random (1 to 16) - this selects the range\n",
    "\n",
    "1. Problem: it takes 20 seconds to review 2000 users\n",
    "2. Memory problem: it cannot handle 35,000 users. \n",
    "\n",
    "In order to add serendipity to the problem, increase speed, and manage memory, a random selection from 16 slots are selected.\n",
    "\n",
    "split into multiples of 16\n",
    "1 - > (53424 / 16) * random (1 to 16) - this selects the range\n",
    "to add serendipity, change the 35,000 choose different 3,339 starting point.\n",
    "\n",
    "This provides the nice benefit of getting different recommendations every time you run the simulations."
   ]
  },
  {
   "cell_type": "code",
   "execution_count": 21,
   "metadata": {},
   "outputs": [],
   "source": [
    "def weighted_mean(df_ratings, user_ratings, sample_size = 8000):\n",
    "    \n",
    "    '''   \n",
    "    INPUT:\n",
    "    - df_ratings: dataframe containing book ratings. Ratings arranged by columns: user_id; book_id; rating.\n",
    "    - user_ratings: dictionary containing user's book ratings. Arranged by book_id (key) and rating (value).\n",
    "    - sample_size: integer. Size of random sample from all the readers' ratings.\n",
    "    \n",
    "    OUTPUT:\n",
    "    - book_wmeans: dictionary containing weighted means for every book that the user has not already rated.\n",
    "      Arranged by book_id (key), and rating (value) in descending order.\n",
    "    '''\n",
    "    \n",
    "    #randomly select a sample of size \"sample_size\" among the 53,424 readers.\n",
    "    random.seed(6)\n",
    "    random_ids=random.sample(list(df_ratings['user_id'].unique()),sample_size) #randomly select a sample of \n",
    "    \n",
    "    #unstack the readers' ratings to a dataframe containing book ratings.\n",
    "    #Ratings arranged by readers (rows) and books (columns).\n",
    "    df_reader_ratings=df_ratings[df_ratings['user_id'].isin(random_ids)].\\\n",
    "                                                    groupby(['user_id', 'book_id'])['rating'].max().unstack()\n",
    "           \n",
    "    #Add a new row \"0\" for the User.\n",
    "    df_reader_ratings.loc[0] = None\n",
    "\n",
    "    #Sort df_reader_ratings index so that the new row \"0\" is shown at the top:\n",
    "    df_reader_ratings=df_reader_ratings.sort_index()\n",
    "\n",
    "    #Populate row \"0\" according to the user's ratings included in user_ratings.\n",
    "    for key in list(user_ratings.keys()):        \n",
    "        df_reader_ratings.loc[0][key]=user_ratings.get(key)\n",
    "        \n",
    "    #create a copy of the unstacked dataframe filling all NaN values with zero's.\n",
    "    df_reader_ratings_dummy=df_reader_ratings.copy().fillna(0)\n",
    "    \n",
    "    #create a matrix with all the cosine similarities between readers.\n",
    "    cosine_ratings=cosine_similarity(df_reader_ratings_dummy,df_reader_ratings_dummy)\n",
    "    \n",
    "    #create a dataframe from the cosine_ratings matrix. Rows = users; Columns = users.\n",
    "    cosine_ratings=pd.DataFrame(cosine_ratings,index=df_reader_ratings.index,columns=df_reader_ratings.index)\n",
    "    \n",
    "    #dictionary to contain weighted means for each book. \n",
    "    book_wmeans={}\n",
    "    \n",
    "    #get a series containing the cosine similarity between User (row 0) and every other user     \n",
    "    cosine_reader=cosine_ratings[0]\n",
    "            \n",
    "    #For every book with rating:\n",
    "    for book in list(df_reader_ratings.columns):\n",
    "        \n",
    "    #If book has not already been rated by the user:\n",
    "        if book not in list(user_ratings.keys()):\n",
    "\n",
    "            #ratings of the book in iteration by all readers.\n",
    "            reader_ratings=df_reader_ratings[book] #all of the reader ratings for given book 'book'\n",
    "\n",
    "            #index containing the rreaders with NaN ratings for the book in iteration.        \n",
    "            #https://stackoverflow.com/questions/14016247/find-integer-index-of-rows-with-nan-in-pandas-dataframe\n",
    "            idx_nans = reader_ratings[reader_ratings.isnull()].index #which indices contained NaNs\n",
    "    \n",
    "            #ratings of the book in iteration by all readers without any NaNs.\n",
    "            reader_ratings=df_reader_ratings[book].dropna()\n",
    "\n",
    "            #remove the readers identified with NaN values for the book in iteration.\n",
    "            cosine_book=cosine_reader.drop(index=idx_nans)\n",
    "        \n",
    "            #carry out the dot product between both series. These do not contain NaN values.\n",
    "            wmean_rating=np.dot(cosine_book,reader_ratings)/cosine_reader.sum()\n",
    "\n",
    "            #include weighted mean in dictionary.\n",
    "            book_wmeans.update({book:wmean_rating})\n",
    "    \n",
    "    #sort dictionary value items in descending order.\n",
    "    book_wmeans=sorted(book_wmeans.items(), key=operator.itemgetter(1),reverse=True)\n",
    "    \n",
    "    return book_wmeans"
   ]
  },
  {
   "cell_type": "code",
   "execution_count": 22,
   "metadata": {},
   "outputs": [
    {
     "name": "stdout",
     "output_type": "stream",
     "text": [
      "55.031331062316895\n"
     ]
    }
   ],
   "source": [
    "start_time = time.time()\n",
    "\n",
    "book_wmeans=weighted_mean(df_ratings, user_ratings, sample_size = 8000)\n",
    "    \n",
    "elapsed_time = time.time() - start_time\n",
    "\n",
    "print(elapsed_time)"
   ]
  },
  {
   "cell_type": "code",
   "execution_count": 23,
   "metadata": {},
   "outputs": [
    {
     "name": "stdout",
     "output_type": "stream",
     "text": [
      "{1: 4, 2: 4, 3: 4, 4: 4, 7: 4, 9: 4}\n"
     ]
    }
   ],
   "source": [
    "print(user_ratings)"
   ]
  },
  {
   "cell_type": "code",
   "execution_count": 24,
   "metadata": {},
   "outputs": [
    {
     "name": "stdout",
     "output_type": "stream",
     "text": [
      "[(18, 1.8546964550928295), (25, 1.8379041143168946), (24, 1.8231934749778242), (27, 1.7868036359610548), (21, 1.7608980188821657), (23, 1.7455769184671073), (17, 1.7280158157692713), (5, 1.5870018544445295), (20, 1.5061994755551746), (19, 1.5032791075723293)]\n"
     ]
    }
   ],
   "source": [
    "print(book_wmeans[:10])"
   ]
  },
  {
   "cell_type": "code",
   "execution_count": 25,
   "metadata": {},
   "outputs": [],
   "source": [
    "book_recommends=list(map(itemgetter(0), book_wmeans))"
   ]
  },
  {
   "cell_type": "code",
   "execution_count": 26,
   "metadata": {},
   "outputs": [
    {
     "name": "stdout",
     "output_type": "stream",
     "text": [
      "[18, 25, 24, 27, 21, 23, 17, 5, 20, 19, 10, 16, 13, 37, 8, 14, 11, 31, 26, 28, 15, 39, 12, 33, 32, 22, 29, 36, 42, 47, 43, 6, 46, 38, 45, 30, 54, 50, 48, 70, 52, 62, 56, 59, 63, 49, 55, 58, 60, 57, 41, 66, 67, 117, 53, 35, 65, 76, 93, 85, 69, 64, 51, 89, 40, 110, 133, 98, 155, 161, 71, 73, 119, 87, 72, 84, 44, 135, 116, 68, 131, 122, 80, 77, 90, 140, 104, 97, 100, 102, 83, 129, 138, 75, 125, 103, 79, 86, 118, 34, 61, 142, 189, 123, 81, 171, 113, 154, 205, 109, 165, 219, 168, 137, 126, 95, 198, 158, 150, 188, 160, 132, 134, 130, 114, 186, 106, 105, 136, 111, 94, 115, 167, 179, 148, 124, 229, 153, 197, 184, 204, 121, 78, 101, 185, 212, 292, 195, 157, 74, 178, 82, 289, 248, 159, 265, 145, 91, 176, 172, 143, 225, 230, 144, 173, 175, 120, 271, 141, 245, 112, 223, 139, 192, 270, 92, 200, 201, 233, 151, 217, 181, 227, 170, 278, 183, 180, 177, 162, 187, 321, 209, 264, 191, 88, 146, 241, 108, 216, 215, 107, 368, 214, 263, 325, 281, 196, 207, 232, 295, 243, 99, 231, 199, 335, 258, 163, 322, 337, 213, 127, 332, 249, 268, 283, 166, 237, 236, 377, 311, 96, 339, 272, 301, 312, 347, 307, 238, 251, 293, 306, 386, 234, 273, 346, 255, 222, 304, 309, 444, 239, 326, 194, 341, 149, 256, 354, 282, 164, 353, 358, 291, 361, 210, 226, 147, 240, 413, 314, 174, 305, 296, 480, 221, 242, 211, 345, 298, 284, 453, 364, 391, 297, 288, 300, 208, 287, 319, 193, 190, 402, 343, 228, 387, 257, 357, 395, 409, 356, 259, 156, 375, 496, 317, 379, 417, 461, 330, 427, 355, 244, 277, 182, 349, 476, 416, 253, 276, 373, 294, 487, 542, 206, 488, 351, 451, 266, 407, 530, 540, 274, 457, 169, 372, 329, 471, 316, 362, 389, 545, 497, 323, 447, 152, 399, 202, 267, 320, 279, 515, 401, 280, 235, 424, 422, 261, 602, 360, 344, 290, 328, 561, 246, 381, 620, 390, 431, 262, 621, 527, 544, 641, 410, 310, 519, 563, 369, 252, 518, 378, 558, 313, 224, 318, 456, 250, 359, 285, 371, 254, 414, 396, 468, 516, 426, 501, 514, 367, 340, 538, 601, 492, 559, 575, 405, 432, 350, 646, 342, 494, 331, 478, 631, 370, 333, 529, 275, 383, 376, 463, 384, 626, 531, 738, 512, 639, 624, 528, 460, 220, 510, 652, 740, 481, 595, 394, 467, 469, 733, 793, 577, 593, 436, 590, 704, 486, 450, 522, 483, 446, 466, 596, 421, 429, 428, 666, 441, 327, 308, 419, 660, 714, 440, 338, 693, 495, 584, 554, 397, 269, 724, 682, 748, 696, 557, 425, 485, 203, 550, 523, 465, 562, 418, 648, 618, 404, 498, 607, 570, 374, 549, 681, 408, 826, 398, 640, 503, 247, 490, 324, 513, 454, 286, 734, 651, 661, 547, 773, 336, 555, 543, 553, 400, 937, 679, 670, 388, 521, 781, 757, 511, 560, 352, 675, 877, 499, 565, 572, 792, 616, 586, 608, 769, 650, 627, 365, 534, 420, 587, 472, 493, 739, 613, 489, 437, 855, 423, 597, 599, 473, 445, 642, 871, 500, 484, 576, 883, 442, 546, 393, 662, 348, 715, 458, 611, 556, 760, 672, 625, 578, 588, 433, 665, 612, 829, 594, 637, 603, 218, 475, 655, 479, 700, 691, 747, 302, 730, 551, 707, 628, 848, 658, 1061, 726, 669, 569, 982, 598, 299, 840, 695, 455, 834, 820, 411, 815, 712, 430, 703, 439, 449, 506, 574, 958, 770, 464, 435, 727, 664, 128, 438, 482, 525, 684, 591, 638, 782, 718, 731, 804, 876, 722, 1367, 1133, 260, 919, 964, 697, 768, 795, 743, 581, 786, 819, 778, 434, 491, 688, 978, 412, 1003, 701, 604, 452, 736, 609, 606, 1530, 868, 725, 459, 898, 860, 808, 1196, 941, 315, 1108, 654, 918, 905, 509, 755, 520, 863, 839, 579, 882, 838, 751, 1137, 984, 899, 933, 799, 806, 857, 541, 605, 477, 443, 864, 994, 780, 916, 817, 873, 833, 536, 824, 732, 758, 363, 948, 508, 763, 762, 865, 705, 382, 885, 653, 1202, 403, 764, 533, 754, 709, 785, 671, 380, 851, 774, 535, 915, 823, 567, 997, 415, 901, 706, 988, 923, 737, 592, 699, 1207, 818, 809, 998, 1011, 935, 1176, 635, 571, 1465, 925, 600, 742, 828, 366, 710, 960, 385, 633, 746, 977, 963, 853, 711, 1094, 1038, 879, 505, 966, 1201, 729, 862, 1155, 526, 1117, 779, 953, 999, 866, 1210, 1120, 1545, 986, 643, 888, 867, 1018, 832, 1033, 847, 912, 1010, 825, 767, 507, 1172, 1071, 766, 789, 1020, 1026, 858, 1175, 614, 909, 801, 906, 1185, 1480, 668, 334, 1075, 850, 894, 689, 943, 1158, 771, 617, 615, 1320, 632, 1248, 585, 1086, 869, 944, 1014, 967, 677, 474, 841, 972, 1131, 741, 1073, 1112, 887, 959, 783, 303, 1381, 1280, 1208, 583, 788, 1057, 552, 1091, 936, 1128, 728, 1435, 539, 622, 1030, 1217, 1054, 1171, 649, 798, 752, 1289, 1402, 687, 1373, 564, 996, 1096, 667, 644, 1037, 856, 1223, 713, 911, 750, 756, 1060, 1163, 1419, 875, 1053, 663, 895, 645, 1354, 759, 1497, 929, 846, 1261, 1225, 566, 791, 1298, 1067, 1397, 1070, 1213, 470, 698, 949, 787, 761, 1391, 805, 448, 1259, 1501, 784, 891, 1159, 1226, 961, 890, 1023, 1151, 816, 1316, 657, 1246, 1088, 1232, 975, 392, 1274, 1161, 702, 678, 794, 957, 1214, 1256, 685, 1305, 634, 1695, 881, 802, 1331, 1431, 1360, 1398, 1032, 1021, 1181, 837, 955, 674, 1178, 1123, 1603, 1065, 1377, 1286, 1039, 1322, 989, 1081, 844, 1447, 686, 1553, 504, 1434, 683, 1068, 1368, 1168, 1707, 573, 880, 1272, 1150, 1476, 803, 1552, 1337, 1233, 623, 976, 872, 692, 1027, 1296, 1342, 814, 928, 1007, 859, 1024, 1167, 1629, 1247, 1089, 1042, 1265, 610, 1489, 930, 517, 777, 1186, 831, 1275, 656, 1365, 1051, 1055, 980, 2078, 1454, 1564, 502, 952, 745, 749, 1050, 1002, 934, 673, 1222, 1229, 2230, 1382, 1184, 1132, 1310, 903, 1591, 1034, 1650, 629, 1590, 1064, 1288, 1087, 772, 1095, 910, 1350, 1554, 1031, 1537, 842, 884, 1292, 1160, 1253, 908, 1457, 1383, 1772, 647, 1278, 896, 981, 568, 1127, 1005, 1452, 721, 1119, 1063, 922, 1211, 1549, 1774, 1970, 889, 1977, 659, 917, 1245, 735, 1084, 1338, 1144, 1332, 893, 1237, 1022, 765, 716, 1267, 1317, 1717, 1319, 1135, 946, 1722, 1114, 1390, 886, 589, 1008, 1341, 1975, 1100, 1493, 913, 1498, 532, 1400, 1200, 1105, 690, 1597, 1059, 1857, 1458, 1359, 1190, 1045, 1145, 1221, 914, 1136, 2125, 897, 1290, 1083, 720, 1058, 822, 1863, 1106, 1588, 1049, 971, 1231, 1107, 1606, 1486, 1706, 924, 1823, 1393, 1361, 1827, 1388, 1569, 694, 1825, 1627, 1101, 1394, 1228, 945, 1048, 1009, 1099, 1147, 849, 1255, 1478, 1646, 1639, 1258, 1118, 992, 1090, 1019, 1448, 1149, 1809, 1327, 1463, 790, 1204, 1156, 1698, 1179, 1216, 1496, 1536, 1362, 993, 970, 810, 1407, 1785, 2039, 1363, 811, 1374, 1308, 1287, 1234, 1249, 1578, 723, 1678, 753, 1012, 1526, 1682, 1644, 1339, 939, 1418, 1885, 1139, 1561, 1869, 1492, 1324, 1555, 1304, 1521, 870, 800, 1079, 1138, 1269, 1260, 1313, 1764, 1423, 1718, 1518, 1293, 1632, 1121, 1622, 3120, 1607, 1598, 1358, 1450, 2049, 630, 1301, 991, 1299, 1677, 1351, 1273, 744, 1739, 1638, 1340, 1266, 1405, 1679, 1714, 1779, 1243, 1694, 1469, 1589, 1126, 902, 1193, 1460, 1264, 1479, 1884, 1531, 1984, 1791, 1227, 821, 1534, 1584, 1425, 1334, 1000, 1182, 1766, 973, 1348, 969, 835, 1833, 1052, 1311, 1040, 1503, 1262, 1410, 1570, 1477, 1153, 1580, 1957, 1191, 1509, 1585, 1238, 1279, 2877, 1335, 1411, 1164, 1074, 1517, 1887, 2007, 985, 1093, 1633, 2095, 719, 1462, 1634, 1821, 1916, 836, 1300, 1169, 1592, 1735, 927, 1759, 1605, 1533, 1154, 1257, 1291, 1648, 1436, 1142, 1343, 1440, 1581, 1177, 854, 3063, 1426, 1535, 1323, 1385, 1742, 2168, 1069, 1336, 796, 1576, 1566, 1582, 1302, 1325, 1244, 1466, 1574, 1230, 1513, 1727, 813, 1768, 1441, 921, 1953, 1056, 1525, 947, 2446, 1752, 1653, 1656, 1445, 1378, 1630, 1956, 962, 548, 2053, 1783, 1812, 2190, 1312, 1399, 1910, 1815, 1548, 951, 1353, 1733, 1907, 1044, 995, 1900, 2892, 2215, 708, 861, 2199, 2594, 907, 1964, 1016, 1959, 1617, 1062, 1199, 1709, 974, 717, 1473, 1481, 1173, 1845, 2054, 1636, 1681, 1944, 1775, 1864, 1240, 1519, 1329, 2430, 1602, 1102, 1483, 1195, 1642, 1573, 2086, 1170, 1993, 1187, 1140, 812, 1198, 1271, 1437, 1989, 1356, 1004, 1392, 1664, 1655, 1487, 537, 1122, 2158, 1583, 1686, 2314, 1520, 1344, 940, 775, 1439, 983, 1461, 2124, 1380, 1675, 1936, 1788, 1092, 1427, 1757, 1251, 1152, 1013, 1593, 1987, 2047, 1488, 1015, 852, 1283, 2380, 1685, 2306, 1235, 1346, 1369, 1931, 1949, 878, 2370, 1396, 1424, 2181, 1818, 979, 1690, 932, 1077, 1628, 2608, 2312, 1726, 2074, 1511, 2068, 1641, 3232, 2032, 926, 1403, 807, 1968, 1961, 676, 1416, 1352, 2240, 2170, 1806, 1254, 1745, 2470, 1541, 1386, 2313, 1741, 1111, 874, 1807, 2271, 1203, 1252, 1902, 1413, 2064, 1547, 900, 1974, 1922, 2127, 1124, 4275, 1556, 1802, 1687, 1220, 1098, 1215, 1914, 1218, 1676, 1540, 1808, 2324, 1889, 1192, 956, 1795, 2015, 950, 2524, 1263, 1693, 1811, 582, 1909, 1357, 1719, 1651, 1001, 1758, 2090, 2041, 1801, 2299, 1572, 1421, 1662, 1980, 2192, 2009, 1877, 1370, 2713, 1464, 1041, 1911, 2213, 2212, 1197, 1046, 1281, 1918, 1459, 1829, 1239, 1502, 1504, 1505, 1528, 1924, 1017, 1654, 2089, 2623, 1546, 2138, 1938, 1867, 1212, 2028, 2513, 2270, 2155, 1670, 2031, 2224, 1314, 2642, 1891, 2351, 1963, 1946, 1901, 1315, 3323, 1689, 1514, 2469, 2094, 1610, 1449, 830, 1995, 1643, 1484, 1898, 2959, 1242, 2611, 2260, 1379, 2582, 1932, 942, 2043, 1103, 2107, 1760, 1737, 2289, 1491, 1604, 1206, 1649, 1366, 1751, 1837, 1467, 619, 1515, 2564, 2210, 1796, 1620, 1307, 1618, 1640, 1746, 2077, 1734, 987, 2415, 827, 1567, 1826, 1456, 1723, 1696, 406, 2051, 1587, 2030, 1455, 1557, 2103, 1945, 2461, 1414, 3019, 1748, 2648, 2976, 2101, 1626, 2017, 1762, 2484, 2985, 2209, 1250, 2365, 3613, 1066, 1303, 2821, 2188, 1560, 3497, 1875, 1474, 1667, 1660, 1559, 2710, 1862, 938, 2578, 2085, 2577, 1631, 2066, 1765, 1820, 1892, 1923, 1389, 2786, 2802, 1986, 2783, 2150, 2026, 2467, 1025, 1895, 2382, 2718, 1711, 3051, 1611, 2071, 2044, 1672, 2198, 1763, 2625, 1890, 1976, 1523, 1671, 1130, 2501, 1771, 1219, 1349, 1873, 1782, 1028, 1770, 2004, 1082, 2392, 2677, 1236, 1162, 1412, 2862, 1666, 1838, 2195, 2366, 1072, 2303, 1029, 2341, 1635, 2278, 2406, 2075, 636, 1429, 2420, 2093, 2607, 2489, 2063, 2136, 1224, 2025, 2005, 2163, 2367, 1594, 2990, 1571, 2056, 2490, 2311, 1047, 2347, 2353, 2411, 1858, 1485, 1384, 2109, 1716, 1330, 2352, 2038, 1879, 2013, 2296, 904, 2014, 2142, 1616, 1110, 1306, 2458, 2763, 2291, 2645, 1839, 892, 2282, 1326, 2381, 2293, 1328, 2069, 2214, 2167, 2147, 1543, 1979, 2315, 1115, 1937, 1704, 2120, 2658, 2247, 1276, 2750, 2445, 2523, 1738, 1886, 2235, 1710, 1876, 2361, 3536, 2711, 1896, 2944, 965, 2135, 2184, 1903, 2695, 2666, 1978, 2954, 1277, 1565, 2397, 2519, 1843, 2237, 2012, 1364, 2126, 2194, 920, 2475, 2193, 2252, 1586, 1969, 2355, 2219, 2118, 1600, 2556, 4445, 1043, 1623, 1579, 1148, 1841, 1076, 2000, 1872, 1205, 2374, 1680, 1781, 1842, 797, 2264, 1522, 3138, 2478, 1798, 2655, 2881, 1615, 2674, 1544, 2057, 2079, 2358, 2476, 1508, 2176, 2045, 2975, 2518, 1878, 1754, 2114, 2359, 2339, 1097, 1939, 1966, 1665, 1831, 1297, 2081, 1954, 2399, 1792, 1871, 2824, 2927, 2879, 1836, 1532, 2468, 2384, 3663, 1813, 3065, 2375, 2356, 1888, 2424, 2761, 3177, 1832, 2842, 3197, 1744, 2579, 1430, 2157, 2019, 2343, 2543, 2034, 2620, 2133, 3000, 2452, 1495, 2239, 3406, 2571, 1347, 2544, 3826, 2131, 2639, 2385, 2076, 2398, 1406, 2267, 1295, 2687, 2197, 1917, 2809, 4042, 1113, 1700, 3244, 1767, 1691, 1512, 2018, 2404, 2322, 2798, 2491, 2149, 3282, 2679, 2423, 2643, 1375, 3468, 2550, 2160, 1817, 1784, 1241, 2117, 1471, 2357, 1294, 3132, 2261, 2407, 1472, 2092, 1996, 2377, 1934, 2993, 1420, 2757, 1880, 3565, 3291, 2554, 2627, 2466, 3562, 2493, 3904, 2073, 1371, 3082, 2229, 1789, 2764, 1881, 1971, 2023, 2409, 1940, 2164, 2603, 1962, 2172, 4653, 1972, 1669, 1490, 4194, 2451, 2052, 2301, 2517, 2456, 2412, 2657, 3052, 3492, 1797, 1749, 2601, 2549, 3206, 1659, 1897, 2055, 3084, 2428, 2245, 2148, 3325, 3484, 1500, 3339, 2123, 2098, 968, 3175, 1166, 1539, 2010, 2596, 2105, 2632, 4271, 3628, 3374, 2087, 2259, 1109, 1847, 2035, 1905, 2016, 3022, 2207, 2619, 1494, 2669, 2631, 2900, 1868, 2102, 2661, 4046, 2405, 1870, 2499, 2581, 3317, 2326, 2605, 2464, 2696, 2887, 1080, 1438, 2854, 2714, 1625, 1482, 2433, 2262, 1921, 2040, 1657, 3860, 1270, 2268, 1856, 2072, 2084, 1194, 2257, 2735, 1468, 1925, 2277, 3311, 1376, 1417, 3910, 2440, 1699, 2130, 2290, 2338, 2029, 4698, 1799, 1755, 2811, 2448, 3200, 1550, 2745, 931, 1143, 2186, 2059, 1948, 2974, 2930, 4112, 2937, 1851, 2979, 2027, 2104, 2604, 2408, 2369, 2383, 1882, 3348, 1724, 1577, 2684, 2724, 1442, 2512, 3739, 3322, 4242, 4154, 2254, 2479, 2980, 2814, 2368, 3583, 3462, 3037, 1999, 3513, 4347, 1174, 2449, 1840, 2304, 3160, 3364, 2391, 2091, 1510, 2850, 1562, 4396, 3595, 1575, 2968, 2960, 2871, 1721, 2940, 1078, 1652, 2997, 1433, 1859, 1725, 2875, 3654, 2760, 1104, 680, 3818, 2702, 2540, 1268, 1006, 2545, 2128, 2134, 2547, 1736, 1284, 2121, 3698, 2539, 2287, 1928, 1601, 1624, 2942, 2447, 1728, 1157, 2807, 1803, 2189, 2265, 3303, 1913, 3101, 3014, 3078, 2522, 1930, 3593, 1958, 2275, 1499, 2403, 4333, 2823, 3568, 3452, 3007, 2812, 2820, 2612, 2568, 1753, 2859, 1828, 2269, 4844, 2429, 6039, 2746, 1743, 1645, 1453, 2379, 2119, 2496, 2471, 2965, 2376, 843, 2597, 2083, 2371, 3306, 2534, 2947, 3530, 2242, 3174, 2589, 1908, 4985, 4460, 1209, 2416, 2952, 2994, 2754, 1915, 1950, 1321, 2615, 3086, 1715, 2302, 3712, 1834, 2738, 2354, 1805, 1990, 1780, 1731, 2062, 2389, 4233, 2574, 3362, 3524, 2835, 2393, 3127, 2898, 2472, 3988, 4131, 2825, 4244, 4535, 2153, 1883, 3425, 2563, 3044, 3968, 2294, 3395, 2226, 2156, 3611, 2180, 2852, 1919, 3858, 2144, 3056, 2911, 1612, 2419, 2751, 3460, 2274, 2637, 1786, 2321, 3298, 2857, 3151, 2165, 2116, 2285, 1702, 3077, 2897, 3648, 1428, 3352, 3304, 3170, 954, 2485, 1997, 3439, 2432, 1661, 2864, 1404, 2001, 3396, 1965, 2288, 2741, 4886, 2088, 2595, 2325, 2622, 3350, 2450, 2319, 2621, 1794, 4775, 1663, 1713, 2400, 2921, 1282, 3003, 1165, 3023, 2096, 2006, 1432, 1853, 2907, 3731, 3340, 3125, 2514, 1036, 2250, 2317, 2541, 2903, 2497, 2506, 3349, 2387, 2279, 2901, 2510, 2860, 3143, 3105, 3080, 4085, 3367, 2515, 3033, 2853, 1810, 4868, 3089, 3806, 4483, 1819, 2730, 2536, 1529, 2179, 2438, 2935, 4208, 1621, 2394, 2426, 2203, 2600, 3387, 4650, 2196, 2459, 2238, 1899, 2844, 1507, 3100, 3671, 1613, 2002, 4138, 1830, 4067, 2654, 1800, 4476, 3551, 3128, 2122, 3521, 1861, 1732, 1134, 3046, 2671, 2633, 1850, 2221, 3002, 2502, 2143, 2719, 3359, 3381, 4925, 2334, 1318, 3390, 2481, 1865, 2950, 3547, 2177, 1994, 3039, 2689, 3234, 2346, 3456, 3657, 3108, 2487, 2780, 3580, 2204, 3179, 3344, 2688, 1345, 3293, 2390, 3997, 1451, 2223, 2785, 3096, 3182, 2255, 3220, 3159, 2516, 2437, 3309, 1852, 2644, 4730, 3672, 4534, 4375, 1563, 4027, 3337, 3240, 3094, 3205, 2298, 1444, 1874, 3642, 2988, 2759, 3124, 2939, 2729, 2099, 3286, 2640, 1614, 2154, 1708, 776, 2815, 2486, 2129, 4273, 2602, 3963, 2559, 1668, 1608, 2558, 2565, 3137, 1568, 3402, 2236, 2552, 2573, 2418, 4720, 2810, 2225, 3394, 3287, 2773, 3662, 2736, 2362, 2535, 2792, 2507, 1951, 2737, 2716, 2873, 2775, 2614, 3376, 3585, 3797, 3185, 3198, 1912, 3333, 2417, 3507, 4580, 3678, 2662, 1860, 2770, 2097, 2058, 2553, 2971, 3501, 1761, 4118, 1906, 2885, 4003, 2112, 4014, 2883, 3302, 2914, 3971, 2246, 1683, 2284, 2668, 2981, 2584, 1516, 4822, 3184, 1740, 2787, 2504, 3700, 3728, 2789, 2159, 2755, 2747, 2849, 4815, 1848, 2115, 2182, 3264, 2297, 3279, 3469, 2822, 3948, 3537, 2050, 2174, 2630, 2183, 3723, 3054, 2943, 2693, 4937, 2508, 2228, 1408, 2527, 2533, 1835, 1942, 3660, 2863, 3346, 1814, 2060, 2454, 1941, 2610, 2477, 1309, 1776, 3563, 3601, 3790, 2673, 4858, 3876, 2008, 4296, 2878, 2173, 3284, 3278, 3330, 2616, 2599, 3711, 1983, 2970, 3443, 3729, 4368, 4277, 3636, 2701, 3249, 3889, 2455, 2327, 3316, 3122, 1952, 4041, 3167, 3190, 3388, 2520, 3277, 3498, 2691, 3907, 3060, 2364, 2488, 1692, 2803, 3973, 1991, 1674, 3594, 2372, 1183, 3590, 2846, 1538, 1926, 2482, 3403, 3688, 3353, 2890, 3808, 5658, 3418, 4261, 4301, 1619, 2742, 3237, 3924, 3016, 2675, 3163, 3358, 3262, 2350, 524, 3271, 1085, 3680, 4124, 4343, 3416, 3126, 3116, 3047, 4062, 3871, 2647, 4315, 3477, 3699, 3254, 3066, 4188, 3308, 2509, 2200, 1401, 3087, 3725, 2201, 1982, 4069, 3079, 3055, 2624, 2910, 1804, 1927, 1816, 3166, 2561, 2593, 2434, 2140, 4646, 2721, 3938, 2567, 3455, 3223, 3020, 2817, 3936, 2830, 2808, 3705, 3176, 3740, 2295, 2957, 5500, 3171, 2318, 5536, 2570, 3021, 3357, 1542, 3459, 2061, 4877, 2884, 3420, 3449, 4076, 3504, 4251, 3072, 2712, 4345, 2531, 1790, 2995, 2141, 3038, 3945, 2870, 4187, 4253, 3737, 2342, 2722, 3774, 3767, 3074, 1116, 2923, 4127, 3614, 2740, 3744, 2699, 3213, 2309, 3061, 4094, 3944, 2211, 3837, 3407, 5221, 3207, 2202, 1599, 5860, 2731, 1729, 5263, 4175, 4575, 2427, 3465, 2048, 1998, 2992, 3643, 3336, 3918, 3319, 1701, 2300, 2413, 3070, 5028, 3579, 3076, 3341, 1506, 3036, 5621, 2272, 2244, 2532, 3229, 3090, 462, 4288, 5089, 2503, 3588, 2833, 3057, 3295, 2537, 2251, 2998, 1395, 3596, 2889, 2042, 3408, 4642, 3577, 2555, 3803, 2936, 3212, 2465, 2241, 4223, 3982, 3510, 2457, 2036, 2891, 4192, 3878, 5567, 2888, 4125, 4645, 3091, 2984, 2941, 3702, 2646, 3112, 2585, 3519, 3514, 2851, 3799, 2410, 3366, 2021, 2396, 3216, 3035, 5152, 2758, 2331, 4349, 3673, 3791, 1524, 3117, 2227, 1387, 3606, 4309, 2706, 2463, 2982, 3511, 3787, 2733, 3869, 3313, 3268, 2286, 4215, 2586, 2569, 3704, 4286, 3169, 2804, 3011, 4806, 1712, 1769, 3793, 3743, 3651, 4577, 4400, 3083, 2591, 3018, 2756, 1894, 1596, 3597, 3805, 2233, 3713, 2909, 4713, 1730, 2845, 4317, 3517, 5717, 4167, 4044, 2836, 3814, 3221, 3560, 3677, 6109, 3692, 2800, 2753, 2110, 2865, 5739, 4087, 2874, 3210, 2634, 3050, 2500, 1637, 4092, 3548, 2933, 3071, 4799, 3634, 1558, 2323, 2791, 3195, 2924, 2598, 3635, 1684, 3028, 2439, 3280, 3798, 3804, 2670, 1527, 2113, 3820, 3097, 3196, 3318, 3612, 3750, 3470, 4941, 4797, 3178, 2137, 2337, 4494, 1703, 2916, 3622, 3772, 3665, 2651, 3025, 2037, 3445, 5100, 1854, 4709, 3410, 3360, 3252, 2613, 3115, 4579, 3862, 2991, 1697, 3608, 2955, 3001, 2868, 4095, 4266, 2587, 3444, 4387, 1720, 1855, 3769, 2525, 3397, 2793, 6701, 3546, 3248, 3639, 4537, 3088, 4842, 4507, 5160, 1443, 3727, 5044, 2253, 2831, 3162, 2816, 2912, 1285, 3230, 1422, 2732, 5781, 3853, 4196, 3147, 2893, 2776, 2266, 1988, 3102, 3486, 2799, 3831, 2546, 3575, 3543, 5136, 2529, 2989, 4155, 5354, 3518, 1866, 3476, 4227, 1333, 4145, 2422, 7055, 2856, 5463, 2705, 3765, 3969, 3687, 3273, 2310, 2220, 3473, 4408, 2781, 3535, 3208, 2978, 2258, 4512, 5008, 3777, 4551, 3215, 4422, 2592, 4492, 3957, 3776, 4891, 2841, 2024, 4234, 3819, 3693, 4553, 4571, 1647, 3515, 4363, 3189, 4240, 2232, 3031, 3652, 2656, 3351, 1943, 2861, 2011, 3887, 3832, 3852, 4232, 2336, 2734, 2866, 3301, 4671, 3539, 3378, 5402, 6778, 4279, 3355, 3242, 3937, 3720, 2777, 2704, 5580, 3400, 3512, 6374, 3716, 3172, 3154, 1035, 2217, 3474, 2460, 3724, 4565, 2664, 4592, 2765, 7505, 2542, 6192, 4101, 2492, 3275, 3526, 3676, 5601, 3043, 2894, 3274, 4190, 2977, 4647, 3584, 3238, 4218, 3217, 3610, 2590, 1551, 3607, 2340, 3552, 4209, 4149, 2986, 2363, 4171, 7490, 3817, 3158, 4182, 5499, 5194, 2762, 4468, 2273, 3326, 3573, 4612, 5372, 3703, 3915, 2969, 3900, 1824, 3441, 2918, 3534, 2386, 2715, 2964, 3624, 3496, 3529, 3933, 4524, 2494, 1188, 3764, 3015, 2395, 3398, 6963, 3258, 7620, 5216, 4113, 3111, 1595, 4847, 2498, 4835, 2234, 2480, 4040, 3098, 3427, 2187, 2528, 5447, 3758, 3314, 5090, 3715, 4289, 2281, 3424, 4007, 2832, 5304, 2206, 1849, 2926, 4130, 5007, 4335, 3292, 3006, 4578, 2996, 3109, 6902, 4446, 3276, 2629, 3131, 4454, 3714, 3812, 2562, 3463, 2961, 5166, 3144, 3775, 5446, 5048, 1658, 1778, 5586, 3040, 6368, 4901, 2583, 4079, 2653, 3027, 4757, 5493, 4002, 2678, 3892, 5181, 3632, 5099, 3454, 4132, 6534, 4320, 2185, 2145, 2521, 2958, 2283, 3136, 3916, 1967, 4755, 3870, 2175, 3754, 3227, 5903, 3062, 4544, 3431, 5685, 3872, 3709, 1920, 4555, 2708, 3363, 3960, 2949, 5392, 2453, 4997, 4618, 2987, 4909, 2152, 3640, 2931, 3641, 3371, 6083, 1747, 2638, 2945, 6061, 2794, 3564, 3581, 2626, 3834, 5343, 3912, 3874, 5742, 6457, 4700, 4562, 4574, 3140, 4789, 4463, 4464, 6139, 4276, 2806, 4427, 4959, 3824, 3133, 1372, 4081, 3935, 4418, 4172, 5477, 5734, 3180, 2728, 6155, 3294, 3946, 4506, 3899, 5805, 2566, 3710, 6602, 5155, 4712, 2771, 3380, 3489, 3533, 3299, 4035, 4726, 2692, 3161, 2111, 3839, 4772, 3324, 4025, 2938, 4219, 5356, 6427, 4383, 3392, 5988, 3113, 2003, 8111, 3544, 2473, 5967, 4678, 2333, 2065, 3466, 3813, 3300, 4390, 3393, 4443, 4542, 3453, 6788, 3730, 3500, 3119, 4703, 2899, 3411, 5055, 3214, 3437, 1470, 2920, 3261, 2839, 3745, 3255, 3218, 2606, 6496, 3746, 3921, 2951, 4795, 4865, 3134, 3646, 3922, 3024, 3602, 3630, 3296, 3153, 4195, 3485, 2414, 3219, 3382, 2070, 3990, 5003, 3941, 2402, 4683, 3958, 6144, 5504, 4009, 3183, 4452, 4538, 2727, 3428, 4181, 5029, 5036, 2917, 2697, 3989, 3141, 5157, 2685, 2495, 8753, 3763, 3188, 5721, 4860, 5388, 2348, 4977, 2953, 3472, 4548, 4419, 5206, 3523, 3058, 3250, 4406, 1125, 1955, 4771, 5756, 3478, 3833, 2848, 3757, 3375, 3412, 5858, 3956, 5558, 6582, 6995, 2967, 3604, 3978, 5298, 3194, 3506, 5020, 6311, 3356, 4431, 3578, 3917, 5802, 5491, 4065, 3974, 5282, 5405, 2665, 3049, 1773, 8413, 4103, 3029, 4479, 4280, 3794, 4358, 2652, 2373, 3668, 2132, 1146, 4504, 2650, 4924, 5069, 1960, 4793, 4444, 3164, 2248, 5337, 3616, 4135, 4514, 5458, 4999, 3666, 3528, 4328, 4139, 3509, 4817, 5590, 3095, 4658, 5569, 3830, 3571, 5383, 2796, 4043, 3399, 2360, 2628, 5677, 5672, 4199, 2557, 4889, 2307, 3192, 5667, 4459, 4304, 3005, 2161, 6121, 5732, 3905, 4056, 2316, 4609, 3327, 4567, 2698, 4057, 5191, 8074, 4603, 7481, 2067, 3429, 2636, 4201, 4608, 4359, 4440, 5905, 4916, 5390, 3925, 7350, 3081, 6003, 4944, 3835, 5777, 2335, 2020, 3618, 2932, 6610, 4259, 6336, 4423, 4148, 5114, 3165, 7981, 6078, 4810, 6670, 5404, 7260, 4455, 4291, 4848, 4204, 4214, 5414, 5398, 4322, 2828, 8638, 6733, 6138, 4294, 6780, 2882, 3527, 4022, 2703, 5176, 5479, 3992, 5227, 4690, 2276, 8428, 6985, 5159, 4851, 4832, 2782, 3106, 3686, 4487, 4649, 5395, 3795, 4302, 2902, 2827, 5239, 2690, 3987, 4530, 2421, 5826, 3653, 5417, 2681, 3557, 3940, 3689, 5162, 4883, 5042, 4263, 4379, 4859, 5273, 5936, 6631, 5052, 3970, 6199, 6729, 4177, 2676, 5766, 4140, 4692, 3503, 3658, 5243, 3760, 3414, 4791, 3966, 3927, 4226, 4453, 4327, 3269, 5056, 3894, 3520, 3932, 5517, 3566, 5867, 5331, 3110, 4120, 5023, 3494, 4895, 4074, 5130, 4061, 5232, 4193, 4246, 4751, 5604, 1355, 5629, 2345, 3929, 3582, 4229, 4231, 5755, 1688, 4862, 5445, 4527, 4258, 4528, 3801, 3059, 4060, 3717, 3741, 4243, 1180, 4083, 2080, 5778, 4230, 3742, 5972, 2663, 6079, 6765, 3796, 7103, 4091, 4108, 2618, 3768, 4070, 3442, 5759, 2904, 3467, 6873, 4636, 4228, 2767, 5864, 5449, 3532, 5030, 2249, 4293, 3615, 4616, 1985, 2538, 2709, 4644, 5648, 2772, 3629, 4830, 4207, 6092, 2720, 3157, 3338, 3786, 3857, 5508, 3289, 3239, 3331, 3026, 6721, 3752, 2946, 4632, 3211, 3748, 2973, 5115, 3965, 2905, 5444, 7408, 3064, 3951, 5143, 6238, 4424, 6350, 3440, 6323, 5384, 7138, 6218, 5564, 4000, 3354, 5763, 3784, 3092, 4078, 4210, 2768, 2869, 3883, 2819, 6489, 4159, 5261, 3823, 3656, 1846, 3999, 3413, 5668, 4039, 4016, 2683, 5588, 5207, 4754, 7895, 3788, 5290, 2218, 4665, 2919, 3934, 4716, 4413, 5767, 4777, 3722, 3373, 4549, 4200, 5652, 5540, 3861, 4299, 3099, 4146, 845, 5582, 4357, 3792, 4870, 4719, 6307, 6113, 6919, 4598, 4237, 2725, 5345, 2191, 3505, 4588, 4298, 4222, 5497, 4166, 3920, 5121, 3491, 4361, 6087, 6640, 3828, 2551, 4425, 5112, 4053, 5167, 2876, 3851, 2320, 3718, 2813, 3201, 8161, 3886, 5951, 6987, 5928, 4447, 3884, 4986, 6666, 4867, 2431, 7598, 5340, 3372, 2151, 4351, 6975, 4682, 7290, 4010, 5015, 3369, 6768, 4970, 4627, 2436, 6273, 5012, 3762, 3236, 2178, 3979, 5507, 3780, 2505, 2401, 2956, 3450, 2222, 3771, 5804, 1415, 5050, 3030, 6505, 4973, 2530, 6430, 3464, 5270, 5338, 4708, 2329, 1189, 4385, 3902, 3708, 4989, 3370, 4696, 5612, 5492, 2641, 6133, 6334, 2617, 6665, 3541, 4268, 3561, 4180, 4660, 4394, 4481, 4308, 5991, 3856, 4630, 4245, 5758, 6662, 3247, 4948, 3321, 5254, 4691, 5193, 4047, 4432, 5934, 7116, 7167, 5195, 8085, 4114, 3135, 4805, 4158, 3458, 4488, 5311, 5583, 6302, 4947, 4529, 5301, 6051, 3964, 1673, 4849, 5346, 6838, 3332, 4066, 4265, 5665, 6539, 3626, 2169, 3508, 2256, 4497, 3538, 6404, 5072, 1609, 3446, 5075, 4106, 3259, 3679, 4638, 4034, 2526, 4897, 3243, 5561, 5292, 4586, 6411, 6502, 3778, 2672, 3893, 6823, 3736, 3574, 4581, 4782, 3631, 4110, 5347, 4994, 3558, 6009, 6153, 5440, 6683, 5004, 3433, 4739, 4183, 5187, 4687, 4816, 2840, 5288, 5861, 4064, 5949, 7335, 6850, 3911, 5587, 3004, 3919, 4813, 5438, 5481, 5073, 5827, 3266, 2305, 5351, 6800, 4946, 3845, 5633, 6396, 5848, 4100, 4052, 3587, 6448, 4978, 3067, 5880, 3600, 5814, 6652, 3417, 2801, 4802, 3829, 3681, 7383, 4992, 4554, 3241, 6590, 4285, 4905, 3516, 4105, 3859, 5490, 5565, 6285, 3849, 5151, 3926, 4267, 6164, 5322, 2216, 3379, 4768, 1705, 6980, 3246, 6180, 5189, 4673, 4954, 6212, 6488, 4257, 4659, 4471, 2548, 7343, 4084, 4827, 3576, 3142, 5541, 4796, 4871, 5173, 3480, 580, 5527, 4556, 4606, 5576, 4753, 4032, 4389, 2999, 7186, 4998, 5253, 6201, 5746, 6112, 7468, 6860, 4126, 4019, 5158, 8038, 6661, 3222, 2435, 3202, 3556, 5886, 5134, 7011, 3048, 3664, 3430, 6246, 4838, 3843, 5737, 4311, 5247, 3864, 3738, 3841, 5439, 5688, 5033, 4031, 3953, 7110, 7102, 4409, 4013, 7393, 4458, 2834, 5177, 5436, 4137, 6588, 6106, 6124, 4874, 4510, 5316, 3148, 4523, 5366, 3697, 4256, 3435, 4881, 5810, 5294, 2483, 4857, 2580, 4058, 4582, 3068, 2743, 4926, 3779, 4933, 3781, 2441, 3475, 3759, 2280, 3947, 4329, 4686, 4473, 4876, 7395, 3121, 3263, 4831, 2880, 7619, 5681, 2328, 7210, 3545, 2330, 6521, 7020, 5123, 2378, 5071, 4972, 3315, 6298, 5870, 5213, 5314, 7328, 2349, 6069, 5563, 7088, 5683, 4017, 4643, 5437, 6503, 3888, 5188, 5855, 6692, 4433, 6458, 5310, 4001, 3773, 5693, 5847, 4077, 1141, 2263, 5001, 5032, 3980, 3297, 7204, 2660, 8370, 3682, 4825, 5617, 2462, 5890, 4121, 6604, 6166, 5554, 7357, 3670, 5185, 5894, 7266, 5434, 5539, 7409, 4449, 9796, 5080, 5299, 6749, 4316, 5813, 3591, 5067, 5049, 8090, 5430, 4979, 8594, 6901, 3570, 5135, 5671, 4731, 3256, 4160, 3186, 9319, 8329, 4508, 3482, 4854, 6314, 3123, 3977, 5062, 8944, 1129, 4856, 5013, 7829, 4416, 3419, 2908, 5469, 5952, 4162, 3283, 2243, 6510, 5060, 8804, 3903, 2983, 4914, 5750, 4392, 4927, 4965, 1844, 3139, 4584, 3647, 3975, 3559, 4888, 4820, 4456, 4517, 9545, 4305, 4339, 5857, 5281, 4252, 5260, 2795, 5396, 6277, 3130, 4185, 3361, 8557, 8906, 6284, 5165, 4169, 6546, 6211, 6035, 3850, 3866, 3675, 4663, 6372, 3555, 3838, 5357, 2829, 6826, 3260, 6101, 7541, 3735, 5415, 3267, 5573, 5147, 6235, 3053, 3707, 5423, 3694, 5364, 2769, 4216, 2576, 3603, 7081, 9076, 4761, 6084, 4337, 5615, 2694, 6690, 7123, 3930, 4599, 5171, 7696, 8630, 4388, 5728, 6297, 4213, 4170, 2915, 4938, 3617, 6444, 6686, 5186, 6042, 3943, 4976, 3816, 6020, 7927, 6871, 2082, 2292, 4967, 3592, 6845, 5201, 4050, 2906, 2929, 4152, 7558, 5505, 3650, 3017, 4503, 5883, 7645, 5501, 5019, 2858, 5705, 5764, 4303, 2332, 6807, 5816, 9090, 6650, 4353, 4360, 5920, 4585, 4021, 5179, 5627, 4467, 3605, 5118, 4641, 4129, 8099, 3085, 3567, 3985, 3245, 8128, 2046, 4247, 7304, 7737, 4325, 3034, 5930, 4845, 4500, 4550, 3995, 5109, 5018, 5144, 7479, 4313, 5941, 6135, 3522, 5946, 6361, 3753, 1409, 2925, 5293, 4088, 3994, 6935, 3191, 2700, 3553, 6356, 5775, 4290, 3012, 7078, 4819, 2707, 5789, 3173, 6697, 6362, 3749, 4756, 4156, 5825, 1793, 4281, 5235, 6696, 6256, 7152, 5341, 4657, 4439, 2171, 7050, 6021, 8478, 6105, 4964, 4397, 5800, 6633, 8578, 5840, 5999, 5382, 7122, 3013, 3129, 4049, 4729, 5642, 5139, 8438, 3909, 6616, 2208, 5715, 4781, 4904, 4420, 8777, 7459, 4996, 7947, 6073, 3906, 5639, 5277, 3696, 6175, 5138, 7208, 5940, 5202, 4324, 6483, 3365, 6858, 2443, 4314, 7080, 4872, 9116, 3755, 2444, 6756, 3908, 4513, 4020, 2609, 4911, 4250, 5915, 4651, 6716, 7054, 5308, 3010, 7728, 5203, 3233, 4371, 4386, 4438, 3770, 7274, 6536, 5468, 7401, 7262, 6025, 6956, 4837, 5801, 8771, 6333, 4902, 7563, 3620, 5224, 4693, 2784, 3983, 4321, 7387, 4846, 3307, 2928, 4899, 3334, 4622, 4633, 5512, 5837, 7506, 4255, 4952, 3942, 5960, 7344, 2033, 3290, 4026, 6390, 5872, 6399, 8652, 5993, 4374, 7514, 5833, 6299, 4807, 5625, 5291, 4680, 3984, 4593, 6119, 1475, 8982, 9308, 3638, 4915, 4898, 6122, 7052, 4369, 3619, 4005, 4236, 6373, 6045, 4667, 1992, 5593, 5925, 4758, 6110, 3345, 4336, 6709, 3959, 5552, 2205, 3312, 4779, 7195, 4759, 4520, 4189, 2752, 6792, 8197, 6678, 7833, 5092, 5376, 4249, 4800, 5370, 4310, 6725, 9556, 4164, 8054, 4354, 8931, 4080, 3150, 3404, 3490, 5799, 7660, 4722, 3073, 7655, 6794, 7228, 5748, 6189, 4109, 6057, 5284, 3409, 7160, 7711, 4887, 5307, 7919, 4982, 3550, 4724, 4096, 2963, 5924, 6096, 6456, 6244, 2895, 3811, 4589, 4619, 8053, 5329, 3609, 5950, 3783, 4134, 2966, 5577, 6632, 9562, 5815, 4531, 7331, 7006, 8870, 5953, 5785, 6732, 8619, 6342, 6304, 4572, 5010, 5156, 3447, 8746, 6972, 6382, 4326, 5875, 8789, 3156, 5041, 3923, 6242, 7396, 4921, 6279, 8665, 5770, 5110, 6330, 4030, 5342, 2682, 6797, 5661, 3422, 6645, 4332, 5385, 3432, 2739, 4776, 5381, 8306, 4975, 6702, 4168, 6111, 7951, 5628, 5091, 3228, 5127, 2106, 6429, 6335, 3386, 7430, 4790, 6648, 3589, 7858, 3426, 6495, 4278, 2231, 8317, 5695, 3231, 4788, 4122, 9509, 6280, 6230, 4934, 4656, 4380, 6796, 3103, 4490, 2139, 3875, 3599, 6395, 4597, 4287, 5410, 5745, 2588, 4711, 7759, 4297, 6408, 4435, 8833, 8332, 5397, 5068, 4801, 5061, 4812, 4378, 3897, 5168, 8743, 5474, 5701, 6681, 7353, 4710, 7234, 5962, 9639, 5306, 7961, 6481, 5190, 4346, 6132, 8031, 5547, 4153, 4104, 4613, 8276, 3257, 6188, 5443, 5083, 5863, 6177, 5680, 6472, 3684, 8211, 8134, 5751, 5716, 3042, 7330, 5412, 4681, 4828, 3877, 3457, 6327, 8790, 4048, 6405, 7170, 6129, 4157, 7296, 4015, 7079, 7478, 5836, 3045, 6973, 2344, 8750, 5475, 6243, 3809, 4426, 3627, 2667, 2425, 3844, 2146, 6392, 4430, 4224, 5589, 1446, 3540, 6130, 5599, 9268, 5391, 5451, 4626, 7513, 5000, 5835, 3448, 5198, 4557, 3822, 5909, 5560, 2962, 3972, 2162, 8262, 2788, 6829, 4950, 8484, 9349, 3865, 7016, 6428, 7690, 5218, 8470, 5094, 6659, 4863, 6236, 1947, 9230, 6498, 5378, 5646, 2726, 3913, 5877, 5568, 8109, 6141, 6810, 7562, 4482, 5931, 6979, 7549, 5889, 6324, 5267, 6118, 3955, 5182, 8250, 6321, 5520, 7471, 4174, 8055, 8172, 6262, 4502, 1750, 5149, 6927, 3114, 5327, 3890, 8998, 7086, 7258, 6784, 3155, 4412, 4220, 4068, 6863, 7132, 6002, 5026, 7063, 6403, 6425, 2560, 4794, 3690, 2867, 4917, 6562, 7282, 4675, 4391, 7098, 3107, 4163, 7955, 6359, 4983, 3493, 4661, 4179, 6557, 4306, 6015, 6074, 6773, 3434, 4639, 6874, 5086, 3659, 6341, 7214, 5283, 4993, 9402, 5696, 6437, 3848, 7664, 4496, 6551, 4560, 5488, 5749, 4024, 4505, 5526, 9063, 4808, 6734, 5400, 7231, 7573, 9661, 6182, 5975, 4033, 3569, 6513, 9343, 2108, 6795, 7825, 7407, 4206, 6059, 6438, 7217, 5684, 6607, 7042, 4836, 3847, 3879, 7945, 6728, 4525, 5425, 4212, 3598, 6181, 7880, 6010, 5521, 4319, 3075, 8173, 5929, 5489, 6407, 4429, 3655, 1973, 7706, 7960, 6024, 3674, 3377, 4701, 5101, 7667, 9383, 9079, 6738, 7162, 4669, 7345, 6982, 5220, 2748, 6126, 6669, 4920, 7463, 4559, 3747, 4932, 6910, 3168, 7717, 5703, 5358, 6417, 7386, 3649, 8921, 8143, 6484, 1893, 5095, 8397, 2826, 4330, 5795, 8949, 5145, 4773, 4590, 9217, 5129, 4509, 2680, 3695, 7681, 4728, 6063, 6655, 6549, 6216, 7611, 2922, 7212, 5448, 7982, 4624, 8440, 6375, 6946, 5906, 6018, 4342, 8563, 4674, 7966, 7015, 5175, 3868, 5429, 5822, 9994, 4684, 4450, 6007, 7374, 4407, 4018, 4955, 7056, 8132, 6228, 5025, 5514, 3756, 6667, 4036, 4434, 5598, 5966, 6165, 5059, 5655, 6914, 6887, 6454, 5932, 4861, 7739, 7151, 4648, 9235, 4640, 5841, 7887, 7173, 6263, 4635, 6554, 5271, 3415, 5456, 5976, 6440, 4974, 6276, 5515, 4913, 4705, 7524, 4561, 4475, 8626, 3487, 8951, 7523, 5660, 7308, 6574, 4884, 5765, 5708, 5313, 5485, 5682, 1929, 7607, 5017, 2805, 7246, 6580, 5006, 5040, 5557, 9663, 5678, 6848, 5525, 4605, 8150, 3118, 6442, 5811, 8067, 6194, 6043, 4740, 3451, 8289, 4238, 7139, 8225, 7683, 6691, 6514, 3032, 7518, 5107, 4461, 5035, 5922, 6000, 4583, 6529, 6736, 7414, 5743, 1756, 5137, 5752, 3998, 3270, 3542, 3384, 7236, 6210, 9513, 4543, 5097, 5797, 6499, 5305, 7836, 4929, 5214, 7652, 5058, 6005, 3954, 8607, 6859, 5878, 7082, 5839, 6467, 8030, 7349, 4689, 3644, 6369, 5251, 4721, 6878, 7605, 6833, 7238, 7323, 5919, 9376, 6533, 7227, 6806, 4348, 6343, 7817, 6292, 5632, 1981, 6197, 5856, 6530, 1933, 8446, 8714, 4533, 4715, 5523, 5907, 6052, 7721, 6173, 9372, 5024, 7180, 5256, 6451, 7839, 6656, 8155, 5389, 6592, 8465, 5257, 7991, 7804, 6140, 5760, 2766, 8763, 5371, 7371, 5600, 5153, 4922, 5876, 4142, 3637, 7352, 4004, 4903, 4448, 5349, 5961, 6620, 5352, 3401, 8243, 5964, 3193, 4670, 6745, 7358, 6397, 5957, 5103, 7295, 6183, 4480, 6053, 8287, 7814, 5697, 7883, 5047, 5881, 2744, 9018, 6229, 6617, 6274, 5148, 9849, 9044, 7115, 9625, 4116, 5326, 6815, 4469, 9085, 5578, 7742, 4090, 5248, 9084, 3991, 2838, 5985, 7834, 4381, 8158, 3854, 5317, 6233, 5387, 5034, 8093, 3405, 6875, 5079, 6455, 6561, 7213, 6556, 5473, 4611, 6684, 6552, 4892, 5570, 4141, 5296, 5424, 5244, 6818, 3706, 4662, 5209, 5192, 3481, 7019, 5339, 6909, 5522, 4930, 5295, 6490, 4966, 3881, 4984, 5077, 4855, 7635, 4869, 7672, 7748, 4595, 5211, 7489, 6288, 7105, 5046, 4012, 7074, 7971, 6597, 6048, 6876, 4541, 7452, 3623, 5699, 7466, 6526, 5330, 7268, 6932, 6345, 6934, 6383, 4115, 3952, 3667, 8045, 4111, 9400, 4746, 4393, 5782, 6378, 7816, 3554, 4568, 3962, 2948, 3461, 7384, 9363, 7417, 3761, 5772, 8373, 9550, 8799, 4402, 5834, 9784, 5303, 8856, 5141, 6801, 4749, 6067, 6869, 5530, 8592, 9241, 9137, 4037, 6743, 3898, 8539, 4008, 6704, 5421, 3625, 5843, 5344, 3488, 6259, 7012, 3347, 8199, 5199, 4437, 7053, 6325, 3733, 5830, 4890, 5355, 6066, 7059, 5791, 7007, 4355, 5613, 7692, 3732, 7099, 9888, 4906, 7149, 6998, 4491, 9690, 5431, 8431, 7014, 6804, 7239, 4949, 4119, 7222, 5386, 8240, 7364, 3885, 9851, 6339, 5792, 2778, 6478, 3782, 5320, 2837, 5264, 6793, 5498, 5807, 5605, 7443, 4532, 5016, 3199, 5871, 7830, 4441, 7127, 5380, 7597, 7493, 6763, 7789, 4573, 7931, 7787, 6186, 3996, 4239, 6675, 4472, 8448, 8591, 6249, 5427, 3069, 6550, 5707, 8017, 2972, 5045, 8360, 990, 5084, 4990, 3181, 6830, 4414, 6387, 6352, 4395, 3265, 8241, 8383, 5823, 7868, 4668, 8430, 4515, 4063, 6033, 5021, 7906, 7986, 6006, 8989, 3867, 6065, 6012, 7741, 6589, 9440, 7504, 6545, 7426, 5328, 4614, 4006, 6306, 6266, 5545, 6671, 6606, 6185, 6174, 3719, 6270, 3855, 7852, 4117, 4963, 7428, 5585, 7448, 9259, 7776, 8699, 5729, 5005, 4750, 8041, 5757, 5408, 9861, 6364, 4198, 9453, 4957, 6727, 7302, 6497, 8062, 9622, 5119, 6967, 5731, 7010, 8393, 4023, 6348, 5066, 6460, 6237, 4352, 7354, 9686, 5606, 6595, 6752, 8568, 9216, 9990, 8366, 6148, 7243, 4197, 6332, 6581, 9253, 4344, 5503, 6163, 5803, 4384, 8873, 5719, 6267, 8196, 7104, 4417, 2774, 7348, 5465, 8637, 7886, 9636, 5509, 8206, 8078, 7994, 5360, 7648, 6713, 2843, 7617, 6366, 7241, 5898, 8216, 7500, 5393, 7316, 4942, 5225, 7311, 6097, 1787, 5846, 5659, 9006, 6190, 5718, 5533, 8213, 6803, 8510, 6724, 6541, 4151, 3914, 2575, 4470, 9023, 7686, 1777, 5321, 5487, 4961, 2166, 4778, 7928, 5943, 9146, 4241, 7932, 6920, 9974, 6393, 3981, 6278, 5607, 5240, 7416, 8819, 3149, 7045, 6894, 7029, 5774, 5619, 8455, 9199, 4093, 5367, 6207, 8726, 9139, 2872, 7159, 6385, 3572, 4401, 6674, 7027, 8230, 6518, 5237, 5082, 4519, 3836, 9977, 7724, 9255, 7187, 5537, 5365, 4128, 4566, 5609, 7477, 8399, 7491, 5231, 9790, 5150, 9166, 8464, 3343, 6255, 6627, 8215, 8507, 5771, 4107, 6805, 6628, 5210, 8039, 5654, 8787, 4350, 5691, 4283, 4282, 6308, 6134, 6615, 7475, 9025, 6227, 5274, 5829, 8268, 5223, 7439, 4735, 6644, 9210, 4882, 8349, 6258, 5113, 9608, 5241, 5163, 5550, 3187, 5623, 4733, 9213, 7263, 7498, 9037, 6746, 4055, 5663, 7267, 2474, 6535, 7561, 6950, 7496, 5845, 7950, 6257, 6938, 7095, 8354, 2790, 9350, 9685, 5923, 7522, 7423, 8004, 7300, 6143, 4442, 5433, 6585, 5963, 8567, 8904, 7508, 4202, 6296, 1904, 3683, 4558, 5989, 5624, 6331, 6338, 5442, 3342, 7548, 5312, 7538, 6264, 7740, 5980, 7158, 6301, 3751, 5318, 6029, 9215, 3391, 8475, 7376, 8894, 6281, 8203, 9198, 5937, 3986, 5818, 9539, 8080, 8492, 6313, 9175, 7092, 4602, 9272, 6178, 9265, 6409, 5269, 5462, 4786, 5959, 5093, 8185, 3421, 8653, 6380, 5969, 7031, 6540, 6172, 6346, 7727, 8010, 7806, 4029, 8715, 5622, 5947, 4436, 7700, 5076, 6318, 6146, 9081, 6936, 5215, 5258, 8171, 5842, 4071, 6624, 6896, 4864, 9496, 7805, 6319, 7113, 8585, 4318, 5057, 6477, 5722, 6422, 9157, 6959, 4501, 8186, 4428, 6841, 9428, 6766, 5233, 7226, 8047, 3253, 6115, 6828, 8009, 8957, 6754, 6629, 8202, 6811, 5773, 6947, 5854, 4873, 6558, 7578, 5942, 9125, 4685, 7925, 6200, 5088, 9940, 5862, 7380, 5315, 8153, 7675, 3669, 5014, 4596, 5869, 5350, 4732, 4840, 6293, 2686, 3661, 4269, 6261, 4498, 4051, 6988, 7175, 5332, 9102, 6377, 9928, 3203, 5556, 4028, 6685, 6842, 5666, 6870, 5981, 3209, 4203, 8857, 6715, 8309, 6485, 4184, 5027, 3807, 6152, 5511, 7642, 5054, 4518, 5704, 9699, 7410, 7347, 9115, 8965, 7775, 5914, 6883, 4718, 8269, 6108, 7853, 8776, 7047, 7722, 3789, 4594, 6462, 7377, 5630, 4340, 7714, 2659, 8264, 3224, 3204, 6955, 5866, 6888, 7544, 3104, 9048, 5184, 7039, 7638, 4939, 8987, 6023, 7697, 5142, 7076, 4677, 7484, 5555, 7585, 7822, 8696, 7288, 4945, 8236, 6759, 3842, 4912, 4885, 9485, 9508, 8868, 8791, 6370, 4539, 9723, 5124, 8693, 6726, 8843, 8811, 6846, 6908, 8810, 5242, 7812, 5995, 6512, 6744, 6022, 8270, 8995, 7119, 6344, 5022, 6353, 6760, 3621, 9252, 5528, 9773, 7813, 9643, 5051, 5510, 4284, 5933, 8125, 6402, 4205, 6423, 4307, 7436, 5542, 6225, 2511, 8496, 4173, 9218, 5817, 6340, 5902, 7233, 4931, 6758, 6682, 8087, 7244, 7654, 9557, 6658, 6248, 4809, 5078, 5710, 4620, 9327, 8117, 5657, 8098, 7820, 7429, 8656, 7625, 6434, 5986, 5496, 3549, 8924, 8386, 7519, 8358, 2388, 6593, 4123, 5377, 6693, 7889, 8035, 3802, 5769, 3846, 7824, 5596, 7797, 9033, 5037, 6531, 9144, 3685, 7983, 7503, 4465, 5592, 6072, 3483, 4780, 6861, 6208, 9457, 5574, 6742, 9740, 8662, 5452, 5895, 7807, 9478, 6125, 8506, 5419, 7795, 6294, 4587, 8615, 8896, 5796, 9924, 8784, 8495, 7456, 8361, 8907, 7148, 6565, 8068, 6014, 6609, 7150, 3235, 4272, 7087, 6958, 3901, 6300, 8740, 5262, 8192, 5669, 8768, 7017, 8725, 7720, 7671, 8800, 8702, 7211, 7781, 6439, 6611, 7285, 6864, 5464, 4493, 4274, 5409, 8251, 6866, 3525, 7422, 7688, 6695, 4462, 6785, 5287, 6217, 6855, 9371, 5478, 8767, 8283, 7575, 5252, 7281, 7220, 5945, 8535, 9711, 8620, 8120, 9194, 9554, 7440, 4745, 6154, 7591, 8618, 6651, 9366, 9469, 6954, 8814, 5204, 8643, 7351, 5686, 6056, 9104, 7891, 6812, 6853, 8094, 8502, 5733, 4637, 5548, 5939, 8388, 5120, 5482, 7370, 5879, 9689, 8032, 5117, 8730, 8037, 6036, 6158, 9149, 7001, 5428, 8322, 5441, 6915, 8824, 7030, 3633, 6435, 4634, 5738, 8872, 3931, 6637, 7988, 8625, 7333, 6358, 6415, 4098, 5399, 4451, 7572, 4839, 6564, 7943, 6282, 7716, 5169, 7901, 9877, 7656, 2886, 4404, 6886, 5278, 4694, 4331, 5420, 8979, 8558, 8806, 8324, 4133, 8482, 9598, 7756, 5323, 9065, 6880, 6834, 9774, 6050, 5544, 5982, 8654, 9257, 9282, 4546, 8190, 4702, 9142, 6027, 3701, 7567, 8782, 4484, 7841, 7840, 6290, 2723, 8369, 5217, 8156, 2847, 5411, 4697, 6639, 7898, 5735, 5480, 5363, 8755, 6289, 7216, 8435, 9843, 3586, 5457, 4248, 8978, 7589, 9911, 9761, 7507, 6076, 8290, 8700, 5670, 4403, 9133, 9185, 6080, 6471, 8452, 5285, 5174, 6371, 5486, 6576, 7899, 4707, 6322, 8083, 8073, 6903, 8415, 8624, 5918, 7021, 4150, 4411, 5740, 9964, 3950, 3825, 8968, 5913, 5793, 8706, 9161, 8321, 9200, 5461, 7516, 8149, 7454, 7935, 6475, 6647, 7798, 7275, 9022, 3008, 5912, 5653, 7433, 9901, 8602, 8928, 4843, 4522, 7126, 8644, 4833, 9490, 6591, 6717, 6825, 9744, 4495, 7464, 4747, 6038, 9683, 8895, 8575, 7209, 5379, 6710, 9867, 6767, 7259, 9456, 7005, 6621, 5849, 9074, 5122, 7018, 3320, 6265, 6626, 5780, 8956, 8023, 5643, 3734, 7749, 8745, 6032, 4738, 5513, 8439, 8761, 4995, 4767, 5784, 7878, 6151, 6202, 4377, 7289, 8577, 5892, 6251, 7048, 4235, 6492, 6326, 9461, 3093, 6347, 7909, 7680, 6049, 9791, 6933, 6782, 8356, 7704, 4054, 6612, 9753, 5808, 5787, 4338, 6329, 7106, 6568, 6601, 2855, 7968, 6924, 4765, 9937, 9414, 7336, 8543, 8540, 6507, 7793, 9408, 4798, 4981, 4334, 9152, 7502, 9818, 3967, 8922, 6688, 5472, 8016, 3949, 6923, 6971, 7723, 6004, 6836, 2635, 8541, 9599, 5348, 8331, 7631, 8660, 8162, 6966, 8491, 6854, 3383, 7794, 8301, 4629, 5911, 5230, 9010, 9869, 4136, 9180, 6420, 6918, 5581, 8537, 4499, 7406, 7535, 4398, 8528, 6453, 5641, 9045, 7596, 6391, 4679, 4075, 8318, 5131, 6770, 7338, 3821, 5714, 8690, 6179, 3329, 6994, 8674, 6672, 7646, 8412, 9860, 6831, 5794, 5450, 9855, 5403, 8519, 7250, 8720, 9361, 9733, 4341, 7253, 6703, 9267, 5070, 8201, 7143, 5172, 9973, 7730, 4601, 6849, 5535, 7783, 4951, 7600, 6388, 8606, 5108, 8545, 5401, 7747, 8664, 5238, 8609, 8165, 6252, 9886, 8941, 6357, 7176, 4038, 4362, 4576, 5974, 5910, 7486, 7753, 4852, 6907, 6239, 9406, 9450, 8877, 5741, 7065, 7458, 5694, 4365, 3436, 4563, 7531, 9905, 6808, 7470, 6951, 5467, 7002, 7888, 6501, 5359, 6942, 8764, 9688, 8210, 2649, 9634, 6748, 7203, 5180, 8853, 6058, 5116, 8168, 6044, 6944, 5992, 7586, 5265, 6310, 3961, 4356, 4969, 8260, 6090, 7689, 9330, 4717, 7713, 7339, 9438, 7118, 8724, 9112, 6912, 8337, 8880, 9691, 9789, 7497, 9927, 7687, 6751, 8018, 9629, 6761, 5065, 8635, 5518, 9897, 8257, 3226, 5831, 9417, 8115, 9162, 6461, 6809, 9134, 8867, 8133, 7576, 7666, 8756, 7093, 8677, 7826, 6945, 5935, 8514, 9164, 7998, 8871, 5859, 4059, 9588, 8449, 7075, 6762, 5297, 4474, 5584, 5324, 8817, 8011, 8154, 6184, 4787, 7792, 7419, 7318, 7101, 6128, 7179, 7517, 5470, 6889, 8272, 9472, 9725, 6528, 9679, 7271, 6091, 8734, 6309, 8627, 3281, 7938, 2717, 5551, 6774, 3726, 8680, 4570, 7112, 6527, 8049, 7574, 5927, 3827, 3385, 7509, 5647, 6480, 6844, 6851, 9715, 8841, 6283, 7556, 9058, 8357, 6123, 6867, 4784, 7809, 7860, 7171, 5712, 9195, 9370, 8766, 6916, 7865, 7447, 9600, 8316, 5406, 7818, 9462, 5779, 4655, 8910, 6349, 5106, 7421, 6578, 6698, 5637, 8600, 9767, 7264, 8552, 6070, 9626, 4714, 4466, 8402, 9589, 6569, 6046, 9390, 4744, 9741, 6060, 4736, 5279, 8387, 7085, 6452, 5768, 5286, 7621, 8101, 4099, 7035, 7583, 6566, 5676, 7265, 9647, 3721, 8500, 8279, 7993, 9266, 6885, 9233, 8525, 9310, 5978, 4811, 6031, 5043, 6668, 8611, 4826, 9923, 6150, 7884, 3471, 5369, 7121, 4821, 6047, 6532, 5591, 8294, 4960, 7862, 9155, 8112, 9147, 6816, 8561, 6777, 9158, 7551, 8916, 8774, 5098, 6895, 5476, 6205, 5885, 4841, 6787, 7184, 5579, 8362, 6544, 6654, 5319, 6664, 9727, 9514, 7786, 6999, 7469, 7564, 4968, 7299, 6653, 3502, 7975, 7879, 8854, 6931, 8479, 5698, 6247, 4477, 8899, 9386, 7400, 7733, 6856, 6315, 8077, 8573, 8645, 7569, 8875, 9996, 4011, 5664, 5255, 6983, 9055, 9981, 8849, 7254, 6196, 4405, 8400, 6147, 6961, 7261, 8048, 8103, 5812, 8487, 5753, 7089, 5353, 3499, 6857, 5747, 9518, 6376, 5105, 7832, 7874, 9095, 7590, 5506, 7215, 6516, 3766, 7734, 5087, 9070, 8261, 9799, 4853, 5566, 7554, 4410, 7644, 4147, 6389, 6445, 4165, 7512, 6771, 6618, 6204, 8829, 8608, 8401, 6553, 7355, 7941, 7926, 5009, 9623, 8305, 8731, 7525, 9245, 5616, 6054, 7850, 9291, 5690, 6791, 8026, 9246, 7546, 4367, 4161, 9538, 8425, 6911, 8002, 4742, 7552, 7649, 7198, 8245, 6882, 5744, 7041, 9673, 6939, 4923, 9494, 5626, 4089, 7846, 8218, 7321, 6673, 5222, 5494, 6055, 9985, 5983, 9459, 5884, 9220, 4540, 8613, 6827, 9281, 8902, 6537, 9657, 4956, 8136, 7752, 7465, 7083, 7784, 4628, 5559, 9621, 8513, 5798, 8028, 6187, 8679, 4176, 8738, 8859, 3145, 5484, 6996, 6722, 7309, 7135, 8396, 3800, 5229, 6028, 6486, 8785, 6363, 7949, 7363, 6941, 7058, 6587, 9254, 7997, 6943, 9151, 6168, 7324, 6291, 4485, 7584, 9093, 3152, 7501, 8091, 6433, 8012, 8692, 9088, 7326, 9388, 9684, 6634, 7903, 7774, 8175, 4850, 9296, 5524, 7164, 7851, 9331, 5838, 9239, 4774, 5571, 7319, 8651, 8460, 6328, 7626, 8474, 5595, 6305, 6459, 7077, 5259, 5674, 6386, 7499, 4373, 5128, 5979, 9279, 6705, 9019, 7247, 4323, 7676, 7709, 6821, 6990, 7223, 5970, 9874, 6466, 9000, 8610, 4415, 3328, 7609, 7307, 9881, 6473, 9682, 6086, 7476, 7375, 8728, 7483, 7390, 9730, 3009, 6506, 8747, 7894, 6660, 8468, 5538, 8472, 9785, 5908, 7633, 8407, 7702, 8719, 5454, 7592, 8348, 6962, 8517, 8788, 8405, 7934, 5723, 8962, 9297, 9975, 6798, 8617, 8138, 6547, 9536, 9455, 7157, 9615, 5673, 7967, 6104, 7735, 9443, 7225, 5575, 7732, 7403, 9237, 4082, 7515, 7777, 7528, 9103, 9896, 9919, 7272, 7325, 8292, 6504, 7287, 7232, 9395, 5375, 8469, 7034, 6089, 7373, 5926, 8572, 9956, 7838, 5300, 8371, 9838, 8040, 9966, 6720, 9605, 5656, 6136, 8066, 8612, 9559, 7707, 4270, 7109, 9672, 8081, 8347, 4704, 9270, 8071, 4803, 1822, 4988, 6865, 4919, 8579, 4221, 8244, 9876, 8033, 7172, 6170, 3976, 5085, 5407, 7904, 8237, 6719, 8019, 9593, 4676, 6802, 5212, 9862, 5994, 7755, 9635, 7379, 6253, 3896, 8972, 8382, 9049, 7662, 5460, 8189, 8878, 8503, 6522, 9401, 6891, 6094, 6813, 5725, 8130, 7293, 9358, 5634, 8749, 4186, 7205, 5754, 9637, 7388, 7970, 6508, 2779, 7145, 8411, 9758, 9586, 9527, 9633, 8953, 4672, 2913, 2308, 9141, 4607, 6817, 6017, 4526, 5645, 9856, 7790, 5608, 7097, 6676, 5888, 8345, 6970, 9731, 7155, 9920, 9835, 7911, 9714, 5416, 9433, 9110, 4987, 6443, 5873, 6596, 8195, 7037, 9404, 8735, 7553, 7269, 7601, 7306, 6436, 9890, 7959, 8826, 8603, 9976, 9047, 4511, 6636, 6419, 5140, 8593, 6608, 9057, 6925, 5466, 9106, 7869, 8622, 5250, 7100, 7510, 7520, 6223, 9716, 6575, 5938, 6337, 8909, 7534, 9062, 6739, 5809, 7399, 6619, 8556, 9805, 9251, 9034, 9360, 6515, 8779, 8123, 2896, 6731, 3438, 8666, 8000, 4918, 9481, 6469, 4652, 9521, 7627, 3288, 8614, 4834, 8463, 8976, 8530, 9804, 6600, 9332, 9552, 9128, 8148, 7855, 7897, 8958, 6538, 7568, 6622, 2572, 5146, 9708, 9952, 7616, 5832, 8267, 7712, 5726, 6500, 7013, 6598, 9798, 7893, 9772, 9991, 8801, 6993, 6779, 3691, 9707, 4623, 6465, 6775, 8781, 4217, 4737, 6835, 8890, 9024, 5226, 4295, 5272, 8404, 7900, 6852, 8454, 8097, 7134, 8816, 5031, 9748, 6384, 9894, 6232, 3531, 9870, 7593, 9814, 4900, 6781, 3285, 5170, 7555, 7521, 3310, 9822, 9999, 5620, 6401, 6167, 8604, 8524, 9368, 9471, 7460, 6120, 9781, 6789, 3891, 8188, 9092, 4376, 5197, 9226, 8681, 9480, 9821, 6906, 5597, 6491, 9671, 6400, 5692, 5236, 9827, 4372, 8363, 9859, 5853, 7650, 5572, 7647, 4936, 9348, 4734, 4617, 4552, 5368, 7169, 6316, 8832, 4688, 9620, 7559, 5887, 8105, 6949, 7156, 8560, 7738, 9675, 9624, 8409, 5603, 7695, 7090, 7736, 4894, 9288, 8838, 7565, 9628, 6203, 4569, 9399, 5336, 8531, 6418, 8842, 7653, 9751, 8717, 9650, 8042, 9839, 8707, 3251, 7557, 9746, 8005, 3146, 9810, 5289, 9511, 9244, 7710, 7174, 9642, 9908, 9247, 8802, 7117, 8876, 8830, 7284, 9800, 7995, 3041, 9434, 9585, 7248, 7624, 8007, 8687, 6088, 7219, 6769, 8298, 8239, 9138, 9173, 4727, 5432, 6215, 5249, 7944, 5133, 7492, 6240, 8805, 7201, 4666, 8669, 8433, 9668, 8480, 8459, 5104, 7957, 4814, 9466, 4695, 4178, 5268, 8716, 8104, 6470, 8647, 5700, 7849, 8874, 9240, 7168, 8861, 2100, 9808, 4940, 8050, 6898, 6579, 9959, 6571, 7953, 8056, 9442, 6783, 9546, 8275, 9498, 8327, 6317, 9750, 9393, 5276, 7404, 6406, 5720, 7038, 6952, 7461, 9073, 8945, 9325, 6700, 6563, 8485, 9503, 9013, 5125, 4908, 4621, 8247, 6969, 7327, 8417, 8477, 8266, 7799, 8901, 8926, 5865, 4254, 8164, 9654, 6487, 5502, 6649, 9850, 9912, 9594, 6977, 7229, 8119, 4654, 8488, 7438, 8547, 7341, 7808, 5824, 7769, 8226, 9651, 3645, 9163, 6520, 8086, 5689, 4928, 3873, 6149, 7622, 7708, 6905, 6272, 5675, 9541, 9184, 9338, 6162, 9655, 7270, 8163, 8398, 9983, 9029, 7910, 6114, 6712, 8343, 8126, 8599, 9524, 7340, 8467, 7785, 5081, 7124, 9922, 6641, 7251, 7346, 6041, 7978, 9192, 8113, 8893, 5965, 7924, 6226, 3880, 4896, 6381, 8932, 7929, 6011, 8694, 2442, 6476, 9318, 8471, 7762, 8515, 7434, 5790, 5200, 4486, 9002, 9156, 9026, 7437, 9082, 8797, 7372, 5335, 8194, 9280, 5302, 6295, 6847, 5334, 5096, 8391, 4706, 5958, 7613, 8504, 4971, 9906, 9454, 4824, 8027, 8836, 6413, 7875, 9302, 9397, 8689, 8135, 5611, 5064, 9295, 9992, 5921, 8489, 7581, 9476, 8526, 6764, 9967, 9206, 7918, 8581, 9934, 8274, 8588, 9143, 9737, 5844, 7987, 8127, 9951, 5762, 8281, 9131, 8727, 6663, 8408, 7530, 5495, 9865, 9415, 8217, 9806, 9887, 9935, 9722, 8300, 9403, 9717, 8131, 9695, 8891, 9182, 9036, 8986, 6446, 4958, 8523, 6900, 7449, 7480, 7303, 8587, 9610, 6714, 7277, 9764, 5638, 9290, 3928, 8280, 5418, 5644, 6786, 8818, 6635, 9333, 6193, 9704, 5904, 5896, 5002, 8323, 5998, 7382, 9484, 9841, 9606, 6991, 9590, 6583, 7192, 5039, 6424, 5394, 4604, 9410, 5709, 8273, 5594, 6209, 9356, 4072, 5984, 9665, 6509, 9277, 9068, 7670, 6790, 6351, 6379, 8447, 4264, 9997, 9739, 6741, 9357, 3423, 7969, 7651, 8214, 4829, 8659, 7202, 8142, 8865, 9346, 8969, 8497, 5333, 3810, 8667, 7937, 7361, 7297, 9140, 7940, 7780, 8682, 9362, 7976, 9124, 9988, 9234, 7587, 8418, 9311, 6013, 9274, 7312, 5948, 8029, 8793, 9316, 8075, 4763, 6542, 9759, 7391, 6099, 5649, 8786, 9604, 4725, 7218, 8341, 6030, 9910, 6064, 8516, 9640, 7921, 9495, 5011, 9201, 4818, 9273, 6474, 7905, 9012, 5531, 6156, 7185, 9489, 9493, 8420, 3840, 9359, 9334, 3479, 7142, 8450, 9694, 8994, 7415, 9190, 8221, 9891, 4762, 6001, 5413, 7028, 9742, 9313, 9542, 5374, 7602, 9153, 6964, 5662, 4102, 9941, 8863, 9423, 9549, 6098, 4743, 9015, 8424, 7923, 8850, 7615, 9114, 9763, 8043, 5874, 8657, 7566, 8586, 5161, 9687, 6102, 9121, 5640, 9021, 7715, 9078, 7066, 7754, 4292, 9793, 7992, 6077, 7763, 6479, 7885, 8546, 9591, 6747, 6421, 6708, 7334, 8663, 6365, 9452, 7049, 8742, 6623, 7257, 8820, 7990, 7856, 8648, 8295, 7473, 5234, 6254, 3939, 5821, 9398, 6753, 8008, 7608, 8193, 7366, 6231, 3815, 8152, 6984, 7802, 7767, 8596, 7848, 7278, 7026, 4260, 8834, 8966, 9925, 6026, 9972, 5534, 7183, 7161, 5944, 9432, 9617, 7913, 5900, 4615, 4421, 4766, 8883, 8121, 9957, 4364, 8937, 5602, 7630, 7292, 4625, 8238, 6677, 8559, 9225, 8713, 8808, 8410, 8911, 9197, 9660, 7750, 8224, 4073, 7140, 7060, 7283, 9770, 8378, 8889, 8350, 8414, 8207, 4516, 8633, 7435, 8852, 5687, 7427, 6019, 8795, 9193, 8151, 6213, 7629, 8233, 8518, 9837, 8821, 8839, 7394, 8798, 7639, 7618, 7128, 8481, 4489, 8584, 4785, 9662, 8930, 3895, 9794, 9962, 6978, 4699, 8231, 5532, 8423, 4366, 7827, 8146, 8992, 8092, 7108, 9069, 8759, 7197, 8079, 8246, 9003, 6431, 9150, 6286, 6559, 9607, 9007, 7640, 4564, 9189, 7678, 9317, 7276, 8908, 6643, 7760, 8020, 9052, 7719, 9492, 8845, 5208, 8141, 8457, 7411, 7701, 9159, 6837, 9875, 8124, 8997, 9696, 5614, 8061, 6116, 5471, 7256, 3225, 7765, 6171, 4823, 9038, 9649, 6016, 7445, 7451, 9409, 8837, 8733, 6917, 9502, 6450, 8082, 9256, 8886, 4741, 7570, 4770, 5562, 5164, 5154, 8058, 9948, 9448, 8847, 7147, 7230, 4962, 8554, 9945, 9531, 7571, 9592, 6840, 7062, 9120, 9938, 7405, 9587, 9391, 5736, 7828, 5309, 9488, 8923, 8704, 6214, 5361, 6872, 6426, 5996, 2022, 6555, 8486, 4748, 9667, 5126, 9111, 7046, 8169, 6957, 7144, 8505, 7182, 9491, 9172, 9653, 7298, 8705, 9188, 9287, 8072, 7033, 6169, 8897, 2934, 6524, 9506, 8780, 9169, 9100, 8064, 8319, 8827, 9532, 5650, 7604, 5245, 6447, 7705, 7661, 9842, 8678, 8180, 8888, 5968, 7685, 9868, 7743, 5891, 7779, 5852, 4907, 6877, 7131, 6416, 9777, 9926, 6718, 8476, 5899, 9844, 6224, 9933, 4097, 7111, 9075, 8106, 8512, 8701, 8444, 6820, 4764, 8493, 9768, 8359, 7542, 5806, 8783, 8159, 7902, 9583, 6206, 8445, 7329, 7188, 7952, 6142, 9638, 5132, 8001, 7402, 8122, 7890, 7332, 6750, 8520, 7599, 7462, 4878, 6494, 8453, 7096, 6614, 2797, 7637, 4879, 7580, 3863, 9222, 5786, 8970, 6131, 6953, 7291, 6881, 9056, 9322, 9286, 9702, 8912, 5788, 7420, 7305, 8642, 9533, 6986, 6127, 7641, 5679, 9970, 9864, 8212, 5851, 9300, 7237, 8334, 7070, 9122, 8676, 9884, 7067, 5973, 7668, 8339, 3495, 9848, 8208, 9165, 7796, 9854, 9782, 9963, 5196, 5956, 7136, 9407, 8688, 7474, 8686, 9067, 6594, 9993, 7603, 8235, 6879, 7360, 7023, 7482, 9086, 7844, 9320, 8015, 9337, 9041, 2749, 6605, 2818, 7191, 7540, 9242, 8114, 6723, 7389, 8938, 9136, 9979, 9424, 5178, 4893, 8860, 7963, 9437, 8846, 6303, 9989, 8712, 9127, 9984, 7322, 7320, 8639, 8191, 6271, 4610, 4880, 8905, 8828, 5997, 7178, 7673, 9500, 7397, 9743, 9305, 8177, 5727, 6899, 9123, 9285, 6137, 8046, 8879, 6679, 8436, 7043, 9709, 7166, 9701, 8256, 9375, 8903, 9204, 9283, 9178, 7071, 7972, 8021, 8628, 9579, 5901, 9572, 6071, 5228, 3368, 8108, 7965, 6928, 6519, 8462, 9099, 7761, 9474, 9422, 7317, 7632, 6008, 9834, 7996, 8160, 7446, 7582, 6449, 7863, 4457, 8089, 9519, 8542, 9107, 5820, 7778, 7057, 4631, 8631, 6191, 6398, 7273, 9852, 8107, 6040, 7072, 7392, 9528, 9342, 8110, 8364, 8887, 8813, 9946, 5362, 8683, 8229, 9373, 9958, 7999, 5636, 6981, 7964, 9435, 9148, 6572, 9823, 9301, 7977, 8219, 7867, 7864, 9304, 9170, 9734, 9341, 7946, 4760, 9219, 7457, 9892, 8569, 5074, 9096, 9354, 9824, 7314, 9501, 7974, 9812, 4547, 5483, 9227, 9611, 8534, 8918, 6625, 7917, 9645, 9292, 9429, 8511, 7526, 5776, 8532, 3272, 8710, 8384, 7003, 6360, 7455, 5977, 9066, 6525, 8367, 3335, 8794, 9339, 7286, 9378, 3993, 4769, 4866, 7861, 7310, 5529, 9577, 6642, 9214, 8796, 7854, 8562, 6103, 8232, 8974, 5205, 7398, 9312, 6735, 9602, 7766, 9517, 7165, 5275, 9382, 7958, 9819, 9729, 8375, 4752, 6937, 8950, 9043, 9930, 8809, 8200, 9468, 8296, 7146, 9612, 9031, 8754, 7120, 9004, 8432, 8960, 7313, 7280, 8458, 4935, 7245, 7539, 5519, 6100, 8576, 8884, 9775, 9083, 8778, 9352, 8302, 6082, 6930, 8421, 9788, 9177, 8668, 9561, 5435, 9504, 8544, 4144, 9113, 4521, 6630, 7782, 9914, 6892, 9564, 9578, 8380, 9676, 7920, 8374, 8286, 8051, 8963, 7190, 7068, 9510, 9094, 7674, 9749, 8157, 9595, 9547, 7882, 5916, 8284, 8422, 8376, 9648, 5868, 6268, 9379, 4478, 8862, 8084, 9830, 8338, 9568, 9098, 6312, 6680, 7691, 8533, 8310, 4382, 9355, 6776, 9916, 8864, 7989, 4980, 8013, 8427, 6493, 9978, 6354, 3305, 4143, 5266, 9618, 9630, 8723, 4399, 7249, 8973, 8555, 9907, 6517, 8675, 7579, 9601, 9298, 9191, 9516, 9168, 9771, 8711, 5990, 9497, 5546, 9505, 7872, 5610, 8258, 7543, 8851, 6560, 9778, 8649, 7663, 9878, 7610, 7385, 9631, 7418, 7773, 7424, 7315, 9757, 9995, 9720, 8315, 9299, 8249, 6034, 8522, 7939, 9801, 6320, 9447, 6464, 5063, 5819, 9960, 8320, 9597, 8673, 6992, 8308, 8840, 4300, 6960, 9389, 6839, 6482, 7431, 5971, 7040, 6737, 9756, 8655, 8355, 8621, 9482, 3882, 8741, 8955, 7842, 6523, 7494, 8313, 7073, 9028, 8703, 5553, 6195, 8760, 9231, 8443, 6394, 8314, 8848, 7810, 5893, 8223, 4723, 7857, 9627, 9365, 9293, 7907, 3389, 8521, 8988, 7207, 9042, 9119, 6699, 9223, 9264, 8381, 8732, 7866, 7770, 8406, 6412, 8999, 6707, 8914, 9540, 5325, 9419, 8939, 8379, 9512, 7025, 8739, 9899, 6884, 8729, 7125, 9939, 7069, 6913, 9394, 4262, 9658, 8222, 9813, 9828, 7595, 8473, 5987, 9943, 9747, 7811, 4600, 8571, 7107, 9829, 6968, 8640, 8182, 9898, 9692, 7873, 8434, 8691, 9766, 4910, 6159, 9032, 8658, 7746, 8792, 7751, 9596, 7859, 6921, 9477, 9721, 7240, 8984, 8494, 9885, 6586, 9826, 6176, 7450, 9050, 8650, 9425, 8416, 9954, 6814, 8299, 6275, 8312, 7831, 5455, 8394, 8198, 7843, 8248, 4370, 9171, 9670, 6441, 9275, 9014, 9243, 9203, 8566, 7669, 8698, 8915, 8365, 9998, 8670, 7731, 8917, 7847, 8927, 5897, 8721, 6095, 8342, 5422, 7009, 8898, 5954, 9087, 6222, 9581, 5651, 9760, 9803, 8722, 8403, 6638, 7693, 8695, 7745, 7758, 8204, 9126, 9609, 9446, 7252, 8116, 8509, 9530, 8574, 9135, 7200, 9961, 8390, 9900, 7606, 9574, 9882, 9936, 8057, 6037, 9872, 9001, 9262, 8498, 8069, 6157, 8187, 5917, 9421, 9016, 8395, 9176, 9284, 6414, 6772, 7133, 9154, 7529, 8961, 9817, 8708, 7614, 9061, 8100, 6219, 7684, 8254, 8822, 6220, 9051, 9965, 6657, 8919, 8242, 7362, 9008, 9071, 8527, 6613, 9947, 7527, 9483, 7679, 7942, 7453, 7892, 7141, 7193, 7368, 9847, 9064, 7936, 7725, 4783, 8564, 9118, 7871, 7933, 4086, 8737, 9444, 9929, 5724, 9475, 9560, 8311, 8137, 8553, 6287, 7485, 8595, 7342, 7768, 9644, 6824, 6757, 9276, 6234, 9987, 9374, 9544, 9091, 8936, 8353, 7588, 8282, 9787, 6432, 9130, 8757, 8590, 9212, 5459, 7359, 8983, 8228, 8807, 7432, 7279, 9321, 8234, 9846, 9344, 8227, 8325, 9931, 9783, 9017, 9232, 6694, 6145, 9323, 9863, 9470, 4545, 7694, 9211, 8088, 6599, 8844, 5713, 8736, 6250, 9980, 8333, 9324, 5102, 8929, 4536, 7915, 9145, 6198, 7301, 8277, 6926, 6085, 8823, 8772, 9261, 8456, 9840, 8646, 9942, 8623, 9020, 9832, 7726, 10000, 9792, 8570, 9077, 6355, 8003, 8538, 7206, 4664, 7153, 8769, 7729, 5702, 9054, 9439, 8490, 9458, 7378, 9795, 6221, 8947, 8991, 9811, 9309, 8589, 8580, 6269, 8762, 8352, 7004, 7022, 8996, 9710, 9666, 9463, 8096, 9027, 7472, 9353, 6577, 8328, 9853, 8070, 9953, 8598, 5516, 9779, 8975, 8340, 9520, 7984, 6940, 9132, 9186, 6706, 9228, 8529, 9515, 9347, 9698, 9431, 9060, 8952, 8940, 8437, 7367, 4875, 6117, 6997, 6740, 8330, 7948, 9207, 9831, 9659, 5219, 6161, 9072, 8835, 9678, 6989, 5618, 7657, 5850, 7199, 9384, 8881, 7677, 6922, 5828, 9418, 8869, 9396, 6893, 8209, 7000, 8252, 7643, 5246, 9917, 8636, 9786, 8368, 8442, 7658, 7801, 7084, 8389, 5955, 8977, 7550, 8985, 9250, 5373, 6687, 8102, 8550, 8059, 7181, 7821, 9754, 8885, 7114, 5280, 9174, 8601, 9950, 9449, 9563, 8278, 8773, 9949, 8176, 7129, 9718, 8629, 9669, 7137, 7876, 7877, 7061, 4792, 7224, 5183, 4211, 9381, 7495, 9893, 5426, 8942, 9303, 7444, 7634, 7130, 7788, 9857, 9499, 7032, 7467, 7177, 7922, 9866, 7091, 7628, 9703, 9616, 6260, 8935, 8291, 7413, 6548, 9430, 8140, 9263, 9879, 7255, 8501, 7036, 6755, 8825, 9205, 6570, 7916, 8803, 9046, 7870, 8565, 9986, 9825, 6843, 9405, 7051, 9238, 6068, 7487, 8981, 8006, 8508, 4045, 7665, 9009, 8990, 8288, 9221, 7800, 9921, 8632, 8672, 9465, 9249, 7560, 9179, 4225, 9845, 8076, 8684, 7954, 8967, 7698, 9522, 8034, 4591, 9183, 9809, 9535, 9745, 5882, 7764, 5111, 7771, 9196, 6890, 7337, 9833, 9820, 9776, 9613, 6468, 8641, 8758, 8551, 4943, 8597, 9955, 7163, 8959, 8461, 6573, 9569, 9059, 9632, 7235, 6822, 9558, 6689, 6062, 5761, 5783, 8166, 7532, 8022, 8770, 9576, 9271, 9507, 6976, 7973, 9918, 7381, 9656, 7194, 7044, 7412, 5053, 8765, 4804, 6107, 5038, 9719, 8751, 5453, 7442, 7699, 9117, 6543, 6463, 7547, 9732, 6897, 7819, 3785, 4191, 6868, 9603, 9523, 8014, 6410, 9473, 9336, 8752, 8307, 9815, 7094, 8025, 7537, 8925, 9411, 9752, 9089, 8036, 8179, 8697, 8095, 8271, 8129, 9011, 7189, 9187, 9836, 9436, 9816, 7221, 9570, 9101, 8326, 7914, 6081, 7956, 8372, 7980, 9306, 9567, 9584, 7659, 6730, 9294, 9529, 8174, 9129, 9380, 9641, 8582, 6832, 9553, 8044, 6799, 6241, 1935, 9367, 9329, 7008, 9807, 6603, 9525, 8815, 6160, 9565, 9335, 8954, 9582, 7488, 9258, 7896, 8426, 6711, 9387, 8441, 9035, 9427, 7365, 9039, 8866, 9340, 9487, 9968, 8167, 8063, 9392, 8024, 9080, 4312, 7623, 7612, 7536, 9108, 9700, 8920, 6075, 9269, 9460, 8934, 9982, 7369, 9858, 8499, 6245, 5711, 8344, 8220, 8980, 9693, 8351, 8065, 9369, 6974, 8933, 9328, 9971, 8144, 9202, 9445, 8744, 9307, 9652, 9314, 8900, 7425, 9677, 9664, 9780, 5635, 7533, 6093, 7930, 6567, 9053, 6948, 8429, 9160, 9566, 8255, 8671, 9416, 8263, 7979, 7682, 8377, 8661, 9229, 7064, 8892, 9871, 8605, 8913, 9681, 4991, 8718, 9889, 8948, 7577, 8265, 7791, 7912, 5730, 7703, 7718, 7757, 8548, 8685, 9646, 9680, 5543, 9534, 7154, 8285, 9289, 9451, 9726, 9762, 9385, 8748, 7835, 9880, 8385, 7294, 6819, 6584, 9571, 9441, 9097, 9944, 7242, 8181, 9537, 8304, 9351, 8336, 9902, 9551, 9913, 7962, 7594, 6904, 8052, 8419, 5631, 8139, 9040, 9464, 4953, 9377, 9883, 8583, 6965, 9413, 8253, 8118, 7356, 8971, 9543, 8392, 9236, 9326, 9364, 9278, 5549, 7881, 9873, 7744, 9619, 9412, 9005, 7441, 8882, 9555, 8855, 9769, 9208, 6646, 8943, 9614, 9713, 9105, 9765, 8346, 8466, 9969, 9467, 9797, 8946, 8709, 9209, 8183, 9426, 8483, 8451, 9526, 6511, 8259, 9580, 8303, 8178, 9420, 8170, 8184, 8060, 9904, 8549, 9903, 8335, 7545, 9167, 9697, 9712, 9915, 9802, 5706, 9479, 7511, 8145, 9030, 6862, 9724, 9909, 8775, 6929, 8616, 8831, 9736, 7024, 8536, 9932, 9224, 8293, 7823, 7772, 7837, 7636, 8147, 9895, 9109, 9674, 9575, 8858, 7985, 9260, 9181, 7815, 9548, 8964, 9248, 9706, 7908, 9728, 8205, 7196, 7845, 9345, 9738, 9573, 9705, 9735, 8812, 8993, 6367, 8634, 9486, 8297, 9755, 7803, 9315]\n"
     ]
    }
   ],
   "source": [
    "print(book_recommends)"
   ]
  },
  {
   "cell_type": "markdown",
   "metadata": {},
   "source": [
    "## 2. Testing the Recommendation Engine\n",
    "\n",
    "### Check and compare how users would have rated"
   ]
  },
  {
   "cell_type": "code",
   "execution_count": 27,
   "metadata": {
    "scrolled": true
   },
   "outputs": [
    {
     "name": "stdout",
     "output_type": "stream",
     "text": [
      "There are 53424 number of unique readers in the dataset.\n"
     ]
    }
   ],
   "source": [
    "n_user=df_ratings['user_id'].nunique()\n",
    "\n",
    "print (\"There are \" +str(n_user)+ \" number of unique readers in the dataset.\")\n"
   ]
  },
  {
   "cell_type": "markdown",
   "metadata": {},
   "source": [
    "How many users should we compare against to provide an optimum recommendation?"
   ]
  },
  {
   "cell_type": "code",
   "execution_count": 107,
   "metadata": {},
   "outputs": [],
   "source": [
    "def recommends_score (df_ratings,sample_size=10,test_size=100):\n",
    "\n",
    "    random.seed(6)\n",
    "    \n",
    "    random_ids=random.sample(list(df_ratings['user_id'].unique()),test_size) #randomly select a sample of 100 entries  \n",
    "\n",
    "    accuracy=[]\n",
    "    \n",
    "    for id in random_ids:\n",
    "        #create small dataframe containing the random_id user's ratings:\n",
    "        df_user=df_ratings[df_ratings['user_id']==id]\n",
    "         \n",
    "        msk = np.random.rand(len(df_user)) < 0.5\n",
    "        df_val = df_user[msk] #keep this away for validation\n",
    "        df_test = df_user[~msk] #to feed into engine\n",
    "        \n",
    "        #store the random_id user's book_ids and ratings in a dictionary:\n",
    "        val_ratings=pd.Series(df_val['rating'].values,index=df_val['book_id']).to_dict() #validation and unseen\n",
    "        test_ratings=pd.Series(df_test['rating'].values,index=df_test['book_id']).to_dict() #feed test data to engine\n",
    "        \n",
    "        #random user_id maximum rating (likely to return \"5\", sometimes \"4\").\n",
    "        max_rating=max(test_ratings.items(), key=operator.itemgetter(1))[1]\n",
    "       \n",
    "        #the dataframe to feed into engine should exclude the random user's data already contained there.\n",
    "        df_ratings=df_ratings[df_ratings['user_id']!=id]\n",
    "        \n",
    "        #feed test data to engine    \n",
    "        wmeans_test=weighted_mean(df_ratings, test_ratings, sample_size)\n",
    "   \n",
    "        #validation data top rated books\n",
    "        val_best=[]\n",
    "        for key, value in val_ratings.items():\n",
    "            if value == max_rating:\n",
    "                val_best.append(key)\n",
    "        \n",
    "        test_best=[]\n",
    "        #make a list from the weighted_mean output best books. The length is made the same as the validation data\n",
    "        test_best=list(map(itemgetter(0), wmeans_test))[:len(val_best)] \n",
    "\n",
    "        overlap = set(test_best) & set(val_best)\n",
    "        \n",
    "        if len(test_best)>0:\n",
    "            #add accuracy score for random user into a list\n",
    "            acc=float(len(overlap)/len(test_best))\n",
    "                \n",
    "        else:\n",
    "            acc=0\n",
    "\n",
    "        accuracy.append(acc)\n",
    "        \n",
    "    #return a list with all the accuracy values from randomly selected samples\n",
    "    \n",
    "    return accuracy"
   ]
  },
  {
   "cell_type": "markdown",
   "metadata": {},
   "source": [
    "## 2. Testing the Recommendation Engine\n",
    "\n",
    "### How many users should we compare against to provide an optimum recommendation?"
   ]
  },
  {
   "cell_type": "code",
   "execution_count": 27,
   "metadata": {
    "scrolled": true
   },
   "outputs": [
    {
     "name": "stdout",
     "output_type": "stream",
     "text": [
      "There are 53424 number of unique readers in the dataset.\n"
     ]
    }
   ],
   "source": [
    "n_user=df_ratings['user_id'].nunique()\n",
    "\n",
    "print (\"There are \" +str(n_user)+ \" number of unique readers in the dataset.\")"
   ]
  },
  {
   "cell_type": "code",
   "execution_count": 142,
   "metadata": {},
   "outputs": [],
   "source": [
    "def create_df_tests():\n",
    "    \n",
    "    samples_list=[]\n",
    "    accuracy_list=[]\n",
    "    time_list=[]\n",
    "    \n",
    "    for samples in range (10,1000,20):\n",
    "        \n",
    "        start_time = time.time()\n",
    "        \n",
    "        accuracy=recommends_score (df_ratings,sample_size=samples,test_size=20)\n",
    "    \n",
    "        elapsed_time = time.time() - start_time\n",
    "        \n",
    "        print(\"Number of Readers comparisons used:\", samples)\n",
    "        samples_list.append(samples)\n",
    "\n",
    "        print(\"Mean accuracy from 20 tests from random users:\", mean(accuracy))\n",
    "        accuracy_list.append(mean(accuracy))\n",
    "\n",
    "        print(\"Simulation time per test\",elapsed_time/test_size)\n",
    "        time_list.append(elapsed_time)\n",
    "    \n",
    "    df_tests = pd.DataFrame(list(zip(samples_list,accuracy_list, time_list)), columns =['samples','accuracy', 'time'])\n",
    "    \n",
    "    return df_tests"
   ]
  },
  {
   "cell_type": "code",
   "execution_count": 143,
   "metadata": {},
   "outputs": [
    {
     "name": "stderr",
     "output_type": "stream",
     "text": [
      "C:\\Anaconda3\\lib\\site-packages\\ipykernel_launcher.py:68: RuntimeWarning: invalid value encountered in double_scalars\n"
     ]
    },
    {
     "name": "stdout",
     "output_type": "stream",
     "text": [
      "Number of Readers comparisons used: 10\n",
      "Mean accuracy from 20 tests from random users: 0.0597323007732847\n",
      "Simulation time per test 2.473666286468506\n",
      "Number of Readers comparisons used: 30\n",
      "Mean accuracy from 20 tests from random users: 0.07221331675967768\n",
      "Simulation time per test 5.420547652244568\n",
      "Number of Readers comparisons used: 50\n",
      "Mean accuracy from 20 tests from random users: 0.08864211868066772\n",
      "Simulation time per test 8.199966740608215\n",
      "Number of Readers comparisons used: 70\n",
      "Mean accuracy from 20 tests from random users: 0.09665871609134498\n",
      "Simulation time per test 10.278455543518067\n",
      "Number of Readers comparisons used: 90\n",
      "Mean accuracy from 20 tests from random users: 0.1039975710563946\n",
      "Simulation time per test 12.704604029655457\n",
      "Number of Readers comparisons used: 110\n",
      "Mean accuracy from 20 tests from random users: 0.08719674597581574\n",
      "Simulation time per test 14.137927365303039\n",
      "Number of Readers comparisons used: 130\n",
      "Mean accuracy from 20 tests from random users: 0.11105375637100888\n",
      "Simulation time per test 16.210601925849915\n",
      "Number of Readers comparisons used: 150\n",
      "Mean accuracy from 20 tests from random users: 0.11003148999249693\n",
      "Simulation time per test 17.902719449996948\n",
      "Number of Readers comparisons used: 170\n",
      "Mean accuracy from 20 tests from random users: 0.1103106053265477\n",
      "Simulation time per test 19.880334329605102\n",
      "Number of Readers comparisons used: 190\n",
      "Mean accuracy from 20 tests from random users: 0.10820015333173227\n",
      "Simulation time per test 21.358069396018983\n",
      "Number of Readers comparisons used: 210\n",
      "Mean accuracy from 20 tests from random users: 0.11013747312946398\n",
      "Simulation time per test 21.65192267894745\n",
      "Number of Readers comparisons used: 230\n",
      "Mean accuracy from 20 tests from random users: 0.08215823586501139\n",
      "Simulation time per test 22.95462679862976\n",
      "Number of Readers comparisons used: 250\n",
      "Mean accuracy from 20 tests from random users: 0.1038108063336258\n",
      "Simulation time per test 24.393810081481934\n",
      "Number of Readers comparisons used: 270\n",
      "Mean accuracy from 20 tests from random users: 0.11935375188891813\n",
      "Simulation time per test 26.742416286468504\n",
      "Number of Readers comparisons used: 290\n",
      "Mean accuracy from 20 tests from random users: 0.10933961033806235\n",
      "Simulation time per test 28.335524463653563\n",
      "Number of Readers comparisons used: 310\n",
      "Mean accuracy from 20 tests from random users: 0.10761161465842795\n",
      "Simulation time per test 28.534116744995117\n",
      "Number of Readers comparisons used: 330\n",
      "Mean accuracy from 20 tests from random users: 0.11247684486056579\n",
      "Simulation time per test 29.878097248077392\n",
      "Number of Readers comparisons used: 350\n",
      "Mean accuracy from 20 tests from random users: 0.10380466394207956\n",
      "Simulation time per test 36.063983249664304\n",
      "Number of Readers comparisons used: 370\n",
      "Mean accuracy from 20 tests from random users: 0.10259633786424908\n",
      "Simulation time per test 33.22041714191437\n",
      "Number of Readers comparisons used: 390\n",
      "Mean accuracy from 20 tests from random users: 0.12230059949842982\n",
      "Simulation time per test 34.346543955802915\n",
      "Number of Readers comparisons used: 410\n",
      "Mean accuracy from 20 tests from random users: 0.09806884377709546\n",
      "Simulation time per test 35.607724571228026\n",
      "Number of Readers comparisons used: 430\n",
      "Mean accuracy from 20 tests from random users: 0.09688613865226768\n",
      "Simulation time per test 36.890197086334226\n",
      "Number of Readers comparisons used: 450\n",
      "Mean accuracy from 20 tests from random users: 0.127529503077124\n",
      "Simulation time per test 38.305775141716005\n",
      "Number of Readers comparisons used: 470\n",
      "Mean accuracy from 20 tests from random users: 0.10126039880835278\n",
      "Simulation time per test 39.86225538253784\n",
      "Number of Readers comparisons used: 490\n",
      "Mean accuracy from 20 tests from random users: 0.10100685176704713\n",
      "Simulation time per test 41.13864307403564\n",
      "Number of Readers comparisons used: 510\n",
      "Mean accuracy from 20 tests from random users: 0.09364660027383813\n",
      "Simulation time per test 42.36524858474731\n",
      "Number of Readers comparisons used: 530\n",
      "Mean accuracy from 20 tests from random users: 0.09991944070737079\n",
      "Simulation time per test 43.761453890800475\n",
      "Number of Readers comparisons used: 550\n",
      "Mean accuracy from 20 tests from random users: 0.09502297410192147\n",
      "Simulation time per test 45.78236289024353\n",
      "Number of Readers comparisons used: 570\n",
      "Mean accuracy from 20 tests from random users: 0.0975867179627722\n",
      "Simulation time per test 46.17088189125061\n",
      "Number of Readers comparisons used: 590\n",
      "Mean accuracy from 20 tests from random users: 0.09197050383969889\n",
      "Simulation time per test 47.932535314559935\n",
      "Number of Readers comparisons used: 610\n",
      "Mean accuracy from 20 tests from random users: 0.1013004745922553\n",
      "Simulation time per test 47.82418279647827\n",
      "Number of Readers comparisons used: 630\n",
      "Mean accuracy from 20 tests from random users: 0.09956881600200565\n",
      "Simulation time per test 48.05699231624603\n",
      "Number of Readers comparisons used: 650\n",
      "Mean accuracy from 20 tests from random users: 0.11462750308846092\n",
      "Simulation time per test 49.02738718986511\n",
      "Number of Readers comparisons used: 670\n",
      "Mean accuracy from 20 tests from random users: 0.10007497576383026\n",
      "Simulation time per test 49.9026615858078\n",
      "Number of Readers comparisons used: 690\n",
      "Mean accuracy from 20 tests from random users: 0.11300580299903056\n",
      "Simulation time per test 51.290652585029605\n",
      "Number of Readers comparisons used: 710\n",
      "Mean accuracy from 20 tests from random users: 0.08653124681268697\n",
      "Simulation time per test 52.57933247089386\n",
      "Number of Readers comparisons used: 730\n",
      "Mean accuracy from 20 tests from random users: 0.06935272978655331\n",
      "Simulation time per test 53.00905587673187\n",
      "Number of Readers comparisons used: 750\n",
      "Mean accuracy from 20 tests from random users: 0.09250765011748993\n",
      "Simulation time per test 54.74830956459046\n",
      "Number of Readers comparisons used: 770\n",
      "Mean accuracy from 20 tests from random users: 0.09786134635628355\n",
      "Simulation time per test 54.7733699798584\n",
      "Number of Readers comparisons used: 790\n",
      "Mean accuracy from 20 tests from random users: 0.11171558385117707\n",
      "Simulation time per test 55.63269395828247\n",
      "Number of Readers comparisons used: 810\n",
      "Mean accuracy from 20 tests from random users: 0.09238780712464922\n",
      "Simulation time per test 58.64220631122589\n",
      "Number of Readers comparisons used: 830\n",
      "Mean accuracy from 20 tests from random users: 0.11391830586567428\n",
      "Simulation time per test 59.83430244922638\n",
      "Number of Readers comparisons used: 850\n",
      "Mean accuracy from 20 tests from random users: 0.11079249593611849\n",
      "Simulation time per test 60.10967578887939\n",
      "Number of Readers comparisons used: 870\n",
      "Mean accuracy from 20 tests from random users: 0.125365625010296\n",
      "Simulation time per test 59.853501844406125\n",
      "Number of Readers comparisons used: 890\n",
      "Mean accuracy from 20 tests from random users: 0.07632106782106782\n",
      "Simulation time per test 62.58093528747558\n",
      "Number of Readers comparisons used: 910\n",
      "Mean accuracy from 20 tests from random users: 0.10332354254686257\n",
      "Simulation time per test 63.60902667045593\n",
      "Number of Readers comparisons used: 930\n",
      "Mean accuracy from 20 tests from random users: 0.09138560766208066\n",
      "Simulation time per test 64.68183178901673\n",
      "Number of Readers comparisons used: 950\n",
      "Mean accuracy from 20 tests from random users: 0.11870105966320678\n",
      "Simulation time per test 64.3814640045166\n",
      "Number of Readers comparisons used: 970\n",
      "Mean accuracy from 20 tests from random users: 0.1008598684537886\n",
      "Simulation time per test 65.60038468837737\n",
      "Number of Readers comparisons used: 990\n",
      "Mean accuracy from 20 tests from random users: 0.10767871699450646\n",
      "Simulation time per test 67.03761425018311\n"
     ]
    }
   ],
   "source": [
    "df_tests = create_df_tests()"
   ]
  },
  {
   "cell_type": "code",
   "execution_count": 157,
   "metadata": {},
   "outputs": [
    {
     "data": {
      "text/html": [
       "<div>\n",
       "<style scoped>\n",
       "    .dataframe tbody tr th:only-of-type {\n",
       "        vertical-align: middle;\n",
       "    }\n",
       "\n",
       "    .dataframe tbody tr th {\n",
       "        vertical-align: top;\n",
       "    }\n",
       "\n",
       "    .dataframe thead th {\n",
       "        text-align: right;\n",
       "    }\n",
       "</style>\n",
       "<table border=\"1\" class=\"dataframe\">\n",
       "  <thead>\n",
       "    <tr style=\"text-align: right;\">\n",
       "      <th></th>\n",
       "      <th>samples</th>\n",
       "      <th>accuracy</th>\n",
       "      <th>time</th>\n",
       "    </tr>\n",
       "  </thead>\n",
       "  <tbody>\n",
       "    <tr>\n",
       "      <th>0</th>\n",
       "      <td>10</td>\n",
       "      <td>0.059732</td>\n",
       "      <td>24.736663</td>\n",
       "    </tr>\n",
       "    <tr>\n",
       "      <th>1</th>\n",
       "      <td>30</td>\n",
       "      <td>0.072213</td>\n",
       "      <td>54.205477</td>\n",
       "    </tr>\n",
       "    <tr>\n",
       "      <th>2</th>\n",
       "      <td>50</td>\n",
       "      <td>0.088642</td>\n",
       "      <td>81.999667</td>\n",
       "    </tr>\n",
       "    <tr>\n",
       "      <th>3</th>\n",
       "      <td>70</td>\n",
       "      <td>0.096659</td>\n",
       "      <td>102.784555</td>\n",
       "    </tr>\n",
       "    <tr>\n",
       "      <th>4</th>\n",
       "      <td>90</td>\n",
       "      <td>0.103998</td>\n",
       "      <td>127.046040</td>\n",
       "    </tr>\n",
       "  </tbody>\n",
       "</table>\n",
       "</div>"
      ],
      "text/plain": [
       "   samples  accuracy        time\n",
       "0       10  0.059732   24.736663\n",
       "1       30  0.072213   54.205477\n",
       "2       50  0.088642   81.999667\n",
       "3       70  0.096659  102.784555\n",
       "4       90  0.103998  127.046040"
      ]
     },
     "execution_count": 157,
     "metadata": {},
     "output_type": "execute_result"
    }
   ],
   "source": [
    "df_tests.head()"
   ]
  },
  {
   "cell_type": "code",
   "execution_count": 158,
   "metadata": {},
   "outputs": [
    {
     "data": {
      "text/html": [
       "<div>\n",
       "<style scoped>\n",
       "    .dataframe tbody tr th:only-of-type {\n",
       "        vertical-align: middle;\n",
       "    }\n",
       "\n",
       "    .dataframe tbody tr th {\n",
       "        vertical-align: top;\n",
       "    }\n",
       "\n",
       "    .dataframe thead th {\n",
       "        text-align: right;\n",
       "    }\n",
       "</style>\n",
       "<table border=\"1\" class=\"dataframe\">\n",
       "  <thead>\n",
       "    <tr style=\"text-align: right;\">\n",
       "      <th></th>\n",
       "      <th>samples</th>\n",
       "      <th>accuracy</th>\n",
       "      <th>time</th>\n",
       "    </tr>\n",
       "  </thead>\n",
       "  <tbody>\n",
       "    <tr>\n",
       "      <th>45</th>\n",
       "      <td>910</td>\n",
       "      <td>0.103324</td>\n",
       "      <td>636.090267</td>\n",
       "    </tr>\n",
       "    <tr>\n",
       "      <th>46</th>\n",
       "      <td>930</td>\n",
       "      <td>0.091386</td>\n",
       "      <td>646.818318</td>\n",
       "    </tr>\n",
       "    <tr>\n",
       "      <th>47</th>\n",
       "      <td>950</td>\n",
       "      <td>0.118701</td>\n",
       "      <td>643.814640</td>\n",
       "    </tr>\n",
       "    <tr>\n",
       "      <th>48</th>\n",
       "      <td>970</td>\n",
       "      <td>0.100860</td>\n",
       "      <td>656.003847</td>\n",
       "    </tr>\n",
       "    <tr>\n",
       "      <th>49</th>\n",
       "      <td>990</td>\n",
       "      <td>0.107679</td>\n",
       "      <td>670.376143</td>\n",
       "    </tr>\n",
       "  </tbody>\n",
       "</table>\n",
       "</div>"
      ],
      "text/plain": [
       "    samples  accuracy        time\n",
       "45      910  0.103324  636.090267\n",
       "46      930  0.091386  646.818318\n",
       "47      950  0.118701  643.814640\n",
       "48      970  0.100860  656.003847\n",
       "49      990  0.107679  670.376143"
      ]
     },
     "execution_count": 158,
     "metadata": {},
     "output_type": "execute_result"
    }
   ],
   "source": [
    "df_tests.tail()"
   ]
  },
  {
   "cell_type": "code",
   "execution_count": 160,
   "metadata": {},
   "outputs": [
    {
     "data": {
      "image/png": "[encoded data removed]",
      "text/plain": [
       "<Figure size 432x288 with 2 Axes>"
      ]
     },
     "metadata": {
      "needs_background": "light"
     },
     "output_type": "display_data"
    }
   ],
   "source": [
    "x1 = df_tests['samples']\n",
    "\n",
    "y1 = df_tests['accuracy']\n",
    "y2 = df_tests['time']\n",
    "\n",
    "plt.subplot(2, 1, 1)\n",
    "plt.plot(x1, y1, 'o-')\n",
    "plt.title('')\n",
    "plt.ylabel('Accuracy')\n",
    "\n",
    "plt.subplot(2, 1, 2)\n",
    "plt.plot(x1, y2, '.-')\n",
    "plt.xlabel('Number of readers compared')\n",
    "plt.ylabel('Recommendation \\n \\\n",
    "Time (s)')\n",
    "\n",
    "plt.savefig('testing_times.png');\n",
    "plt.show()"
   ]
  },
  {
   "cell_type": "markdown",
   "metadata": {},
   "source": [
    "## 2. Include tags to improve the output\n",
    "\n",
    "### Check and compare how users would have rated"
   ]
  },
  {
   "cell_type": "code",
   "execution_count": null,
   "metadata": {},
   "outputs": [],
   "source": [
    "def genre_filter(user_genres,user_ratings,book_recommends,number=5):\n",
    "    '''\n",
    "    INPUT:\n",
    "    user_id1 - the first user_id of an individual as int\n",
    "    user_id2 - the second user_id of an individual as int\n",
    "    \n",
    "    OUTPUT:\n",
    "    pw_dist - float value with the distance between user_id1 and used_id2 (smaller values indicate greater similarity)\n",
    "    '''\n",
    "    \n",
    "    #books corresponding to user tag preferences.\n",
    "    df_book_filter=df_tags[df_tags['tag_id'].isin(user_genres)]\n",
    "    \n",
    "    #filter out books already rated by user.\n",
    "    df_book_filter=df_book_filter[~df_book_filter['book_id'].isin(list(user_ratings.keys()))]\n",
    "    \n",
    "    #filter for books included in book_recommends.\n",
    "    df_book_filter=df_book_filter[df_book_filter['book_id'].isin(book_recommends[:number])]\n",
    "    \n",
    "    if df_book_filter.shape[0]<number:\n",
    "        \n",
    "        print(\"Please try including more tags in your selection.\")            \n",
    "        \n",
    "    \n",
    "    final_recommend=get_book_titles(list(df_book_filter['book_id']))\n",
    "    \n",
    "    return final_recommend"
   ]
  },
  {
   "cell_type": "code",
   "execution_count": null,
   "metadata": {},
   "outputs": [],
   "source": [
    "print(genre_filter(user_genres,user_ratings,book_recommends,number=5))"
   ]
  }
 ],
 "metadata": {
  "kernelspec": {
   "display_name": "Python 3",
   "language": "python",
   "name": "python3"
  },
  "language_info": {
   "codemirror_mode": {
    "name": "ipython",
    "version": 3
   },
   "file_extension": ".py",
   "mimetype": "text/x-python",
   "name": "python",
   "nbconvert_exporter": "python",
   "pygments_lexer": "ipython3",
   "version": "3.6.8"
  }
 },
 "nbformat": 4,
 "nbformat_minor": 2
}
